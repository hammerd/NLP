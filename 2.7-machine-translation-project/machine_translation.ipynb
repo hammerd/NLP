{
 "cells": [
  {
   "cell_type": "markdown",
   "metadata": {
    "collapsed": true
   },
   "source": [
    "# Artificial Intelligence Nanodegree\n",
    "## Machine Translation Project\n",
    "In this notebook, sections that end with **'(IMPLEMENTATION)'** in the header indicate that the following blocks of code will require additional functionality which you must provide. Please be sure to read the instructions carefully!\n",
    "\n",
    "## Introduction\n",
    "In this notebook, you will build a deep neural network that functions as part of an end-to-end machine translation pipeline. Your completed pipeline will accept English text as input and return the French translation.\n",
    "\n",
    "- **Preprocess** - You'll convert text to sequence of integers.\n",
    "- **Models** Create models which accepts a sequence of integers as input and returns a probability distribution over possible translations. After learning about the basic types of neural networks that are often used for machine translation, you will engage in your own investigations, to design your own model!\n",
    "- **Prediction** Run the model on English text."
   ]
  },
  {
   "cell_type": "code",
   "execution_count": 1,
   "metadata": {},
   "outputs": [],
   "source": [
    "%load_ext autoreload\n",
    "%aimport helper, tests\n",
    "%autoreload 1"
   ]
  },
  {
   "cell_type": "code",
   "execution_count": 2,
   "metadata": {},
   "outputs": [
    {
     "name": "stderr",
     "output_type": "stream",
     "text": [
      "Using TensorFlow backend.\n"
     ]
    }
   ],
   "source": [
    "import collections\n",
    "\n",
    "import helper\n",
    "import numpy as np\n",
    "import project_tests as tests\n",
    "\n",
    "from keras.preprocessing.text import Tokenizer\n",
    "from keras.preprocessing.sequence import pad_sequences\n",
    "from keras.models import Model\n",
    "from keras.layers import GRU, Input, Dense, TimeDistributed, Activation, RepeatVector, Bidirectional\n",
    "from keras.layers.embeddings import Embedding\n",
    "from keras.optimizers import Adam\n",
    "from keras.losses import sparse_categorical_crossentropy"
   ]
  },
  {
   "cell_type": "markdown",
   "metadata": {},
   "source": [
    "### Verify access to the GPU\n",
    "The following test applies only if you expect to be using a GPU, e.g., while running in a Udacity Workspace or using an AWS instance with GPU support. Run the next cell, and verify that the device_type is \"GPU\".\n",
    "- If the device is not GPU & you are running from a Udacity Workspace, then save your workspace with the icon at the top, then click \"enable\" at the bottom of the workspace.\n",
    "- If the device is not GPU & you are running from an AWS instance, then refer to the cloud computing instructions in the classroom to verify your setup steps."
   ]
  },
  {
   "cell_type": "code",
   "execution_count": 3,
   "metadata": {},
   "outputs": [
    {
     "name": "stdout",
     "output_type": "stream",
     "text": [
      "[name: \"/cpu:0\"\n",
      "device_type: \"CPU\"\n",
      "memory_limit: 268435456\n",
      "locality {\n",
      "}\n",
      "incarnation: 385810275538585950\n",
      ", name: \"/gpu:0\"\n",
      "device_type: \"GPU\"\n",
      "memory_limit: 357433344\n",
      "locality {\n",
      "  bus_id: 1\n",
      "}\n",
      "incarnation: 1212180638112584227\n",
      "physical_device_desc: \"device: 0, name: Tesla K80, pci bus id: 0000:00:04.0\"\n",
      "]\n"
     ]
    }
   ],
   "source": [
    "from tensorflow.python.client import device_lib\n",
    "print(device_lib.list_local_devices())"
   ]
  },
  {
   "cell_type": "markdown",
   "metadata": {},
   "source": [
    "## Dataset\n",
    "We begin by investigating the dataset that will be used to train and evaluate your pipeline.  The most common datasets used for machine translation are from [WMT](http://www.statmt.org/).  However, that will take a long time to train a neural network on.  We'll be using a dataset we created for this project that contains a small vocabulary.  You'll be able to train your model in a reasonable time with this dataset.\n",
    "### Load Data\n",
    "The data is located in `data/small_vocab_en` and `data/small_vocab_fr`. The `small_vocab_en` file contains English sentences with their French translations in the `small_vocab_fr` file. Load the English and French data from these files from running the cell below."
   ]
  },
  {
   "cell_type": "code",
   "execution_count": 4,
   "metadata": {},
   "outputs": [
    {
     "name": "stdout",
     "output_type": "stream",
     "text": [
      "Dataset Loaded\n"
     ]
    }
   ],
   "source": [
    "# Load English data\n",
    "english_sentences = helper.load_data('data/small_vocab_en')\n",
    "# Load French data\n",
    "french_sentences = helper.load_data('data/small_vocab_fr')\n",
    "\n",
    "print('Dataset Loaded')"
   ]
  },
  {
   "cell_type": "markdown",
   "metadata": {},
   "source": [
    "### Files\n",
    "Each line in `small_vocab_en` contains an English sentence with the respective translation in each line of `small_vocab_fr`.  View the first two lines from each file."
   ]
  },
  {
   "cell_type": "code",
   "execution_count": 5,
   "metadata": {},
   "outputs": [
    {
     "name": "stdout",
     "output_type": "stream",
     "text": [
      "small_vocab_en Line 1:  new jersey is sometimes quiet during autumn , and it is snowy in april .\n",
      "small_vocab_fr Line 1:  new jersey est parfois calme pendant l' automne , et il est neigeux en avril .\n",
      "small_vocab_en Line 2:  the united states is usually chilly during july , and it is usually freezing in november .\n",
      "small_vocab_fr Line 2:  les états-unis est généralement froid en juillet , et il gèle habituellement en novembre .\n"
     ]
    }
   ],
   "source": [
    "for sample_i in range(2):\n",
    "    print('small_vocab_en Line {}:  {}'.format(sample_i + 1, english_sentences[sample_i]))\n",
    "    print('small_vocab_fr Line {}:  {}'.format(sample_i + 1, french_sentences[sample_i]))"
   ]
  },
  {
   "cell_type": "markdown",
   "metadata": {},
   "source": [
    "From looking at the sentences, you can see they have been preprocessed already.  The puncuations have been delimited using spaces. All the text have been converted to lowercase.  This should save you some time, but the text requires more preprocessing.\n",
    "### Vocabulary\n",
    "The complexity of the problem is determined by the complexity of the vocabulary.  A more complex vocabulary is a more complex problem.  Let's look at the complexity of the dataset we'll be working with."
   ]
  },
  {
   "cell_type": "code",
   "execution_count": 6,
   "metadata": {},
   "outputs": [
    {
     "name": "stdout",
     "output_type": "stream",
     "text": [
      "1823250 English words.\n",
      "227 unique English words.\n",
      "10 Most common words in the English dataset:\n",
      "\"is\" \",\" \".\" \"in\" \"it\" \"during\" \"the\" \"but\" \"and\" \"sometimes\"\n",
      "\n",
      "1961295 French words.\n",
      "355 unique French words.\n",
      "10 Most common words in the French dataset:\n",
      "\"est\" \".\" \",\" \"en\" \"il\" \"les\" \"mais\" \"et\" \"la\" \"parfois\"\n"
     ]
    }
   ],
   "source": [
    "english_words_counter = collections.Counter([word for sentence in english_sentences for word in sentence.split()])\n",
    "french_words_counter = collections.Counter([word for sentence in french_sentences for word in sentence.split()])\n",
    "\n",
    "print('{} English words.'.format(len([word for sentence in english_sentences for word in sentence.split()])))\n",
    "print('{} unique English words.'.format(len(english_words_counter)))\n",
    "print('10 Most common words in the English dataset:')\n",
    "print('\"' + '\" \"'.join(list(zip(*english_words_counter.most_common(10)))[0]) + '\"')\n",
    "print()\n",
    "print('{} French words.'.format(len([word for sentence in french_sentences for word in sentence.split()])))\n",
    "print('{} unique French words.'.format(len(french_words_counter)))\n",
    "print('10 Most common words in the French dataset:')\n",
    "print('\"' + '\" \"'.join(list(zip(*french_words_counter.most_common(10)))[0]) + '\"')"
   ]
  },
  {
   "cell_type": "markdown",
   "metadata": {},
   "source": [
    "For comparison, _Alice's Adventures in Wonderland_ contains 2,766 unique words of a total of 15,500 words.\n",
    "## Preprocess\n",
    "For this project, you won't use text data as input to your model. Instead, you'll convert the text into sequences of integers using the following preprocess methods:\n",
    "1. Tokenize the words into ids\n",
    "2. Add padding to make all the sequences the same length.\n",
    "\n",
    "Time to start preprocessing the data...\n",
    "### Tokenize (IMPLEMENTATION)\n",
    "For a neural network to predict on text data, it first has to be turned into data it can understand. Text data like \"dog\" is a sequence of ASCII character encodings.  Since a neural network is a series of multiplication and addition operations, the input data needs to be number(s).\n",
    "\n",
    "We can turn each character into a number or each word into a number.  These are called character and word ids, respectively.  Character ids are used for character level models that generate text predictions for each character.  A word level model uses word ids that generate text predictions for each word.  Word level models tend to learn better, since they are lower in complexity, so we'll use those.\n",
    "\n",
    "Turn each sentence into a sequence of words ids using Keras's [`Tokenizer`](https://keras.io/preprocessing/text/#tokenizer) function. Use this function to tokenize `english_sentences` and `french_sentences` in the cell below.\n",
    "\n",
    "Running the cell will run `tokenize` on sample data and show output for debugging."
   ]
  },
  {
   "cell_type": "code",
   "execution_count": 7,
   "metadata": {},
   "outputs": [
    {
     "name": "stdout",
     "output_type": "stream",
     "text": [
      "{'the': 1, 'quick': 2, 'a': 3, 'brown': 4, 'fox': 5, 'jumps': 6, 'over': 7, 'lazy': 8, 'dog': 9, 'by': 10, 'jove': 11, 'my': 12, 'study': 13, 'of': 14, 'lexicography': 15, 'won': 16, 'prize': 17, 'this': 18, 'is': 19, 'short': 20, 'sentence': 21}\n",
      "\n",
      "Sequence 1 in x\n",
      "  Input:  The quick brown fox jumps over the lazy dog .\n",
      "  Output: [1, 2, 4, 5, 6, 7, 1, 8, 9]\n",
      "Sequence 2 in x\n",
      "  Input:  By Jove , my quick study of lexicography won a prize .\n",
      "  Output: [10, 11, 12, 2, 13, 14, 15, 16, 3, 17]\n",
      "Sequence 3 in x\n",
      "  Input:  This is a short sentence .\n",
      "  Output: [18, 19, 3, 20, 21]\n"
     ]
    }
   ],
   "source": [
    "def tokenize(x):\n",
    "    \"\"\"\n",
    "    Tokenize x\n",
    "    :param x: List of sentences/strings to be tokenized\n",
    "    :return: Tuple of (tokenized x data, tokenizer used to tokenize x)\n",
    "    \"\"\"\n",
    "    # TODO: Implement\n",
    "    tok_model = Tokenizer(char_level=False)\n",
    "    tok_model.fit_on_texts(x)\n",
    "    \n",
    "    return tok_model.texts_to_sequences(x), tok_model\n",
    "\n",
    "\n",
    "tests.test_tokenize(tokenize)\n",
    "\n",
    "# Tokenize Example output\n",
    "text_sentences = [\n",
    "    'The quick brown fox jumps over the lazy dog .',\n",
    "    'By Jove , my quick study of lexicography won a prize .',\n",
    "    'This is a short sentence .']\n",
    "text_tokenized, text_tokenizer = tokenize(text_sentences)\n",
    "print(text_tokenizer.word_index)\n",
    "print()\n",
    "for sample_i, (sent, token_sent) in enumerate(zip(text_sentences, text_tokenized)):\n",
    "    print('Sequence {} in x'.format(sample_i + 1))\n",
    "    print('  Input:  {}'.format(sent))\n",
    "    print('  Output: {}'.format(token_sent))"
   ]
  },
  {
   "cell_type": "code",
   "execution_count": 8,
   "metadata": {},
   "outputs": [
    {
     "data": {
      "text/plain": [
       "10"
      ]
     },
     "execution_count": 8,
     "metadata": {},
     "output_type": "execute_result"
    }
   ],
   "source": [
    "len(max(text_tokenized, key=len))"
   ]
  },
  {
   "cell_type": "markdown",
   "metadata": {},
   "source": [
    "### Padding (IMPLEMENTATION)\n",
    "When batching the sequence of word ids together, each sequence needs to be the same length.  Since sentences are dynamic in length, we can add padding to the end of the sequences to make them the same length.\n",
    "\n",
    "Make sure all the English sequences have the same length and all the French sequences have the same length by adding padding to the **end** of each sequence using Keras's [`pad_sequences`](https://keras.io/preprocessing/sequence/#pad_sequences) function."
   ]
  },
  {
   "cell_type": "code",
   "execution_count": 9,
   "metadata": {},
   "outputs": [
    {
     "name": "stdout",
     "output_type": "stream",
     "text": [
      "Sequence 1 in x\n",
      "  Input:  [1 2 4 5 6 7 1 8 9]\n",
      "  Output: [1 2 4 5 6 7 1 8 9 0]\n",
      "Sequence 2 in x\n",
      "  Input:  [10 11 12  2 13 14 15 16  3 17]\n",
      "  Output: [10 11 12  2 13 14 15 16  3 17]\n",
      "Sequence 3 in x\n",
      "  Input:  [18 19  3 20 21]\n",
      "  Output: [18 19  3 20 21  0  0  0  0  0]\n"
     ]
    }
   ],
   "source": [
    "def pad(x, length=None):\n",
    "    \"\"\"\n",
    "    Pad x\n",
    "    :param x: List of sequences.\n",
    "    :param length: Length to pad the sequence to.  If None, use length of longest sequence in x.\n",
    "    :return: Padded numpy array of sequences\n",
    "    \"\"\"\n",
    "\n",
    "    # 1st set the max sequence length\n",
    "    if length is None:\n",
    "        length = len( max(x, key=len) )\n",
    "\n",
    "    return pad_sequences(x, maxlen=length, padding='post')\n",
    "\n",
    "\n",
    "tests.test_pad(pad)\n",
    "\n",
    "# Pad Tokenized output\n",
    "test_pad = pad(text_tokenized)\n",
    "for sample_i, (token_sent, pad_sent) in enumerate(zip(text_tokenized, test_pad)):\n",
    "    print('Sequence {} in x'.format(sample_i + 1))\n",
    "    print('  Input:  {}'.format(np.array(token_sent)))\n",
    "    print('  Output: {}'.format(pad_sent))"
   ]
  },
  {
   "cell_type": "markdown",
   "metadata": {},
   "source": [
    "### Preprocess Pipeline\n",
    "Your focus for this project is to build neural network architecture, so we won't ask you to create a preprocess pipeline.  Instead, we've provided you with the implementation of the `preprocess` function."
   ]
  },
  {
   "cell_type": "code",
   "execution_count": 10,
   "metadata": {},
   "outputs": [
    {
     "name": "stdout",
     "output_type": "stream",
     "text": [
      "Data Preprocessed\n",
      "Max English sentence length: 15\n",
      "Max French sentence length: 21\n",
      "English vocabulary size: 199\n",
      "French vocabulary size: 344\n"
     ]
    }
   ],
   "source": [
    "def preprocess(x, y):\n",
    "    \"\"\"\n",
    "    Preprocess x and y\n",
    "    :param x: Feature List of sentences\n",
    "    :param y: Label List of sentences\n",
    "    :return: Tuple of (Preprocessed x, Preprocessed y, x tokenizer, y tokenizer)\n",
    "    \"\"\"\n",
    "    preprocess_x, x_tk = tokenize(x)\n",
    "    preprocess_y, y_tk = tokenize(y)\n",
    "\n",
    "    preprocess_x = pad(preprocess_x)\n",
    "    preprocess_y = pad(preprocess_y)\n",
    "\n",
    "    # Keras's sparse_categorical_crossentropy function requires the labels to be in 3 dimensions\n",
    "    preprocess_y = preprocess_y.reshape(*preprocess_y.shape, 1)\n",
    "\n",
    "    return preprocess_x, preprocess_y, x_tk, y_tk\n",
    "\n",
    "preproc_english_sentences, preproc_french_sentences, english_tokenizer, french_tokenizer =\\\n",
    "    preprocess(english_sentences, french_sentences)\n",
    "    \n",
    "max_english_sequence_length = preproc_english_sentences.shape[1]\n",
    "max_french_sequence_length = preproc_french_sentences.shape[1]\n",
    "english_vocab_size = len(english_tokenizer.word_index)\n",
    "french_vocab_size = len(french_tokenizer.word_index)\n",
    "\n",
    "print('Data Preprocessed')\n",
    "print(\"Max English sentence length:\", max_english_sequence_length)\n",
    "print(\"Max French sentence length:\", max_french_sequence_length)\n",
    "print(\"English vocabulary size:\", english_vocab_size)\n",
    "print(\"French vocabulary size:\", french_vocab_size)"
   ]
  },
  {
   "cell_type": "markdown",
   "metadata": {},
   "source": [
    "## Models\n",
    "In this section, you will experiment with various neural network architectures.\n",
    "You will begin by training four relatively simple architectures.\n",
    "- Model 1 is a simple RNN\n",
    "- Model 2 is a RNN with Embedding\n",
    "- Model 3 is a Bidirectional RNN\n",
    "- Model 4 is an optional Encoder-Decoder RNN\n",
    "\n",
    "After experimenting with the four simple architectures, you will construct a deeper architecture that is designed to outperform all four models.\n",
    "### Ids Back to Text\n",
    "The neural network will be translating the input to words ids, which isn't the final form we want.  We want the French translation.  The function `logits_to_text` will bridge the gab between the logits from the neural network to the French translation.  You'll be using this function to better understand the output of the neural network."
   ]
  },
  {
   "cell_type": "code",
   "execution_count": 11,
   "metadata": {},
   "outputs": [
    {
     "name": "stdout",
     "output_type": "stream",
     "text": [
      "`logits_to_text` function loaded.\n"
     ]
    }
   ],
   "source": [
    "def logits_to_text(logits, tokenizer):\n",
    "    \"\"\"\n",
    "    Turn logits from a neural network into text using the tokenizer\n",
    "    :param logits: Logits from a neural network\n",
    "    :param tokenizer: Keras Tokenizer fit on the labels\n",
    "    :return: String that represents the text of the logits\n",
    "    \"\"\"\n",
    "    index_to_words = {id: word for word, id in tokenizer.word_index.items()}\n",
    "    index_to_words[0] = '<PAD>'\n",
    "\n",
    "    return ' '.join([index_to_words[prediction] for prediction in np.argmax(logits, 1)])\n",
    "\n",
    "print('`logits_to_text` function loaded.')"
   ]
  },
  {
   "cell_type": "markdown",
   "metadata": {},
   "source": [
    "### Model 1: RNN (IMPLEMENTATION)\n",
    "![RNN](images/rnn.png)\n",
    "A basic RNN model is a good baseline for sequence data.  In this model, you'll build a RNN that translates English to French."
   ]
  },
  {
   "cell_type": "code",
   "execution_count": 12,
   "metadata": {},
   "outputs": [
    {
     "data": {
      "text/plain": [
       "344"
      ]
     },
     "execution_count": 12,
     "metadata": {},
     "output_type": "execute_result"
    }
   ],
   "source": [
    "french_vocab_size"
   ]
  },
  {
   "cell_type": "code",
   "execution_count": 14,
   "metadata": {},
   "outputs": [
    {
     "name": "stdout",
     "output_type": "stream",
     "text": [
      "Train on 110288 samples, validate on 27573 samples\n",
      "Epoch 1/10\n",
      "110288/110288 [==============================] - 472s 4ms/step - loss: 3.4978 - acc: 0.4167 - val_loss: 2.5752 - val_acc: 0.4543\n",
      "Epoch 2/10\n",
      "110288/110288 [==============================] - 467s 4ms/step - loss: 2.4484 - acc: 0.4663 - val_loss: 2.3207 - val_acc: 0.4858\n",
      "Epoch 3/10\n",
      "110288/110288 [==============================] - 471s 4ms/step - loss: 2.1997 - acc: 0.5091 - val_loss: 2.0751 - val_acc: 0.5347\n",
      "Epoch 4/10\n",
      "110288/110288 [==============================] - 461s 4ms/step - loss: 1.9729 - acc: 0.5526 - val_loss: 1.8803 - val_acc: 0.5746\n",
      "Epoch 5/10\n",
      "110288/110288 [==============================] - 462s 4ms/step - loss: 1.8132 - acc: 0.5733 - val_loss: 1.7506 - val_acc: 0.5767\n",
      "Epoch 6/10\n",
      "110288/110288 [==============================] - 454s 4ms/step - loss: 1.7007 - acc: 0.5800 - val_loss: 1.6539 - val_acc: 0.5817\n",
      "Epoch 7/10\n",
      "110288/110288 [==============================] - 458s 4ms/step - loss: 1.6167 - acc: 0.5880 - val_loss: 1.5833 - val_acc: 0.5909\n",
      "Epoch 8/10\n",
      "110288/110288 [==============================] - 477s 4ms/step - loss: 1.5554 - acc: 0.5976 - val_loss: 1.5299 - val_acc: 0.6018\n",
      "Epoch 9/10\n",
      "110288/110288 [==============================] - 488s 4ms/step - loss: 1.5066 - acc: 0.6053 - val_loss: 1.4851 - val_acc: 0.6090\n",
      "Epoch 10/10\n",
      "110288/110288 [==============================] - 488s 4ms/step - loss: 1.4654 - acc: 0.6095 - val_loss: 1.4469 - val_acc: 0.6130\n",
      "new jersey est parfois parfois en en et il est il en en <PAD> <PAD> <PAD> <PAD> <PAD> <PAD> <PAD> <PAD>\n"
     ]
    }
   ],
   "source": [
    "def simple_model(input_shape, output_sequence_length, english_vocab_size, french_vocab_size):\n",
    "    \"\"\"\n",
    "    Build and train a basic RNN on x and y\n",
    "    :param input_shape: Tuple of input shape\n",
    "    :param output_sequence_length: Length of output sequence\n",
    "    :param english_vocab_size: Number of unique English words in the dataset\n",
    "    :param french_vocab_size: Number of unique French words in the dataset\n",
    "    :return: Keras model built, but not trained\n",
    "    \"\"\"\n",
    "    # TODO: Build the layers\n",
    "    learning_rate = 1e-3\n",
    "    \n",
    "    input_seq = Input(input_shape[1:])\n",
    "    rnn = GRU(64, return_sequences=True)(input_seq)\n",
    "    logits = TimeDistributed(Dense(french_vocab_size))(rnn)\n",
    "\n",
    "    model = Model(input_seq, Activation('softmax')(logits))\n",
    "    \n",
    "    model.compile(loss=sparse_categorical_crossentropy,\n",
    "                  optimizer=Adam(learning_rate),\n",
    "                  metrics=['accuracy'])\n",
    "    return model\n",
    "\n",
    "\n",
    "tests.test_simple_model(simple_model)\n",
    "\n",
    "# Reshaping the input to work with a basic RNN\n",
    "tmp_x = pad(preproc_english_sentences, max_french_sequence_length)\n",
    "tmp_x = tmp_x.reshape((-1, preproc_french_sentences.shape[-2], 1))\n",
    "\n",
    "# Train the neural network\n",
    "simple_rnn_model = simple_model(\n",
    "    tmp_x.shape,\n",
    "    max_french_sequence_length,\n",
    "    english_vocab_size,\n",
    "    french_vocab_size+1) # adding 1 for <PAD>\n",
    "simple_rnn_model.fit(tmp_x, preproc_french_sentences, batch_size=1024, epochs=10, validation_split=0.2)\n",
    "\n",
    "# Print prediction(s)\n",
    "print(logits_to_text(simple_rnn_model.predict(tmp_x[:1])[0], french_tokenizer))"
   ]
  },
  {
   "cell_type": "markdown",
   "metadata": {},
   "source": [
    "### Model 2: Embedding (IMPLEMENTATION)\n",
    "![RNN](images/embedding.png)\n",
    "You've turned the words into ids, but there's a better representation of a word.  This is called word embeddings.  An embedding is a vector representation of the word that is close to similar words in n-dimensional space, where the n represents the size of the embedding vectors.\n",
    "\n",
    "In this model, you'll create a RNN model using embedding."
   ]
  },
  {
   "cell_type": "code",
   "execution_count": 21,
   "metadata": {},
   "outputs": [
    {
     "name": "stdout",
     "output_type": "stream",
     "text": [
      "Train on 110288 samples, validate on 27573 samples\n",
      "Epoch 1/10\n",
      "110288/110288 [==============================] - 499s 5ms/step - loss: 3.8629 - acc: 0.3975 - val_loss: 3.0287 - val_acc: 0.4093\n",
      "Epoch 2/10\n",
      "110288/110288 [==============================] - 445s 4ms/step - loss: 2.8364 - acc: 0.4293 - val_loss: 2.4859 - val_acc: 0.4972\n",
      "Epoch 3/10\n",
      "110288/110288 [==============================] - 453s 4ms/step - loss: 2.1580 - acc: 0.5195 - val_loss: 1.8726 - val_acc: 0.5556\n",
      "Epoch 4/10\n",
      "110288/110288 [==============================] - 458s 4ms/step - loss: 1.6782 - acc: 0.6036 - val_loss: 1.5023 - val_acc: 0.6365\n",
      "Epoch 5/10\n",
      "110288/110288 [==============================] - 441s 4ms/step - loss: 1.3754 - acc: 0.6686 - val_loss: 1.2586 - val_acc: 0.6997\n",
      "Epoch 6/10\n",
      "110288/110288 [==============================] - 443s 4ms/step - loss: 1.1674 - acc: 0.7234 - val_loss: 1.0792 - val_acc: 0.7460\n",
      "Epoch 7/10\n",
      "110288/110288 [==============================] - 451s 4ms/step - loss: 1.0092 - acc: 0.7588 - val_loss: 0.9420 - val_acc: 0.7722\n",
      "Epoch 8/10\n",
      "110288/110288 [==============================] - 449s 4ms/step - loss: 0.8877 - acc: 0.7815 - val_loss: 0.8352 - val_acc: 0.7916\n",
      "Epoch 9/10\n",
      "110288/110288 [==============================] - 452s 4ms/step - loss: 0.7955 - acc: 0.7970 - val_loss: 0.7547 - val_acc: 0.8045\n",
      "Epoch 10/10\n",
      "110288/110288 [==============================] - 442s 4ms/step - loss: 0.7228 - acc: 0.8101 - val_loss: 0.6908 - val_acc: 0.8156\n",
      "new jersey est parfois calme en l' et il est est en en <PAD> <PAD> <PAD> <PAD> <PAD> <PAD> <PAD> <PAD>\n"
     ]
    }
   ],
   "source": [
    "def embed_model(input_shape, output_sequence_length, english_vocab_size, french_vocab_size):\n",
    "    \"\"\"\n",
    "    Build and train a RNN model using word embedding on x and y\n",
    "    :param input_shape: Tuple of input shape\n",
    "    :param output_sequence_length: Length of output sequence\n",
    "    :param english_vocab_size: Number of unique English words in the dataset\n",
    "    :param french_vocab_size: Number of unique French words in the dataset\n",
    "    :return: Keras model built, but not trained\n",
    "    \"\"\"\n",
    "    # TODO: Implement\n",
    "    learning_rate = 1e-3\n",
    "    \n",
    "    input_seq = Input(input_shape[1:])\n",
    "    embed = Embedding(english_vocab_size, 32, input_length=output_sequence_length)(input_seq) # mask_zero=False\n",
    "    rnn = GRU(64, return_sequences=True)(embed)\n",
    "    logits = TimeDistributed(Dense(french_vocab_size))(rnn)\n",
    "\n",
    "    model = Model(input_seq, Activation('softmax')(logits))\n",
    "    \n",
    "    model.compile(loss=sparse_categorical_crossentropy,\n",
    "                  optimizer=Adam(learning_rate),\n",
    "                  metrics=['accuracy'])\n",
    "    return model\n",
    "\n",
    "tests.test_embed_model(embed_model)\n",
    "\n",
    "\n",
    "# TODO: Reshape the input\n",
    "tmp_x = pad(preproc_english_sentences, max_french_sequence_length)\n",
    "tmp_x = tmp_x.reshape((-1, preproc_french_sentences.shape[-2]))\n",
    "\n",
    "\n",
    "# TODO: Train the neural network\n",
    "embed_rnn_model = embed_model(\n",
    "    tmp_x.shape,\n",
    "    max_french_sequence_length,\n",
    "    english_vocab_size+1,\n",
    "    french_vocab_size+1) # adding 1 for <PAD>\n",
    "embed_rnn_model.fit(tmp_x, preproc_french_sentences, batch_size=1024, epochs=10, validation_split=0.2)\n",
    "\n",
    "# TODO: Print prediction(s)\n",
    "print(logits_to_text(embed_rnn_model.predict(tmp_x[:1])[0], french_tokenizer))"
   ]
  },
  {
   "cell_type": "code",
   "execution_count": 17,
   "metadata": {},
   "outputs": [
    {
     "data": {
      "text/plain": [
       "(21, 1)"
      ]
     },
     "execution_count": 17,
     "metadata": {},
     "output_type": "execute_result"
    }
   ],
   "source": []
  },
  {
   "cell_type": "markdown",
   "metadata": {},
   "source": [
    "### Model 3: Bidirectional RNNs (IMPLEMENTATION)\n",
    "![RNN](images/bidirectional.png)\n",
    "One restriction of a RNN is that it can't see the future input, only the past.  This is where bidirectional recurrent neural networks come in.  They are able to see the future data."
   ]
  },
  {
   "cell_type": "code",
   "execution_count": 17,
   "metadata": {},
   "outputs": [
    {
     "name": "stdout",
     "output_type": "stream",
     "text": [
      "Train on 110288 samples, validate on 27573 samples\n",
      "Epoch 1/10\n",
      "110288/110288 [==============================] - 19s 174us/step - loss: 2.1464 - acc: 0.5491 - val_loss: 1.4861 - val_acc: 0.6122\n",
      "Epoch 2/10\n",
      "110288/110288 [==============================] - 18s 165us/step - loss: 1.3648 - acc: 0.6268 - val_loss: 1.2735 - val_acc: 0.6434\n",
      "Epoch 3/10\n",
      "110288/110288 [==============================] - 18s 165us/step - loss: 1.2149 - acc: 0.6529 - val_loss: 1.1625 - val_acc: 0.6619\n",
      "Epoch 4/10\n",
      "110288/110288 [==============================] - 18s 165us/step - loss: 1.1173 - acc: 0.6728 - val_loss: 1.0741 - val_acc: 0.6828\n",
      "Epoch 5/10\n",
      "110288/110288 [==============================] - 18s 165us/step - loss: 1.0401 - acc: 0.6868 - val_loss: 1.0079 - val_acc: 0.6899\n",
      "Epoch 6/10\n",
      "110288/110288 [==============================] - 18s 165us/step - loss: 0.9797 - acc: 0.6961 - val_loss: 0.9564 - val_acc: 0.7019\n",
      "Epoch 7/10\n",
      "110288/110288 [==============================] - 18s 165us/step - loss: 0.9321 - acc: 0.7042 - val_loss: 0.9121 - val_acc: 0.7045\n",
      "Epoch 8/10\n",
      "110288/110288 [==============================] - 18s 165us/step - loss: 0.8929 - acc: 0.7103 - val_loss: 0.8744 - val_acc: 0.7148\n",
      "Epoch 9/10\n",
      "110288/110288 [==============================] - 18s 165us/step - loss: 0.8594 - acc: 0.7167 - val_loss: 0.8467 - val_acc: 0.7177\n",
      "Epoch 10/10\n",
      "110288/110288 [==============================] - 18s 165us/step - loss: 0.8314 - acc: 0.7228 - val_loss: 0.8180 - val_acc: 0.7277\n",
      "new jersey est parfois chaud en mois de il est il est en en <PAD> <PAD> <PAD> <PAD> <PAD> <PAD> <PAD>\n"
     ]
    }
   ],
   "source": [
    "def bd_model(input_shape, output_sequence_length, english_vocab_size, french_vocab_size):\n",
    "    \"\"\"\n",
    "    Build and train a bidirectional RNN model on x and y\n",
    "    :param input_shape: Tuple of input shape\n",
    "    :param output_sequence_length: Length of output sequence\n",
    "    :param english_vocab_size: Number of unique English words in the dataset\n",
    "    :param french_vocab_size: Number of unique French words in the dataset\n",
    "    :return: Keras model built, but not trained\n",
    "    \"\"\"\n",
    "    # TODO: Implement\n",
    "    \n",
    "    learning_rate = 1e-3\n",
    "    \n",
    "    input_seq = Input(input_shape[1:])\n",
    "    rnn = Bidirectional( GRU(256, return_sequences=True) )(input_seq)\n",
    "    logits = TimeDistributed(Dense(french_vocab_size))(rnn)\n",
    "\n",
    "    model = Model(input_seq, Activation('softmax')(logits))\n",
    "    \n",
    "    model.compile(loss=sparse_categorical_crossentropy,\n",
    "                  optimizer=Adam(learning_rate),\n",
    "                  metrics=['accuracy'])\n",
    "    return model\n",
    "\n",
    "tests.test_bd_model(bd_model)\n",
    "\n",
    "\n",
    "# TODO: Reshape the input\n",
    "tmp_x = pad(preproc_english_sentences, max_french_sequence_length)\n",
    "tmp_x = tmp_x.reshape((-1, preproc_french_sentences.shape[-2],1))\n",
    "\n",
    "# TODO: Train the neural network\n",
    "bd_rnn_model = bd_model(\n",
    "    tmp_x.shape,\n",
    "    max_french_sequence_length,\n",
    "    english_vocab_size+1,\n",
    "    french_vocab_size+1) # adding 1 for <PAD>\n",
    "bd_rnn_model.fit(tmp_x, preproc_french_sentences, batch_size=1024, epochs=10, validation_split=0.2)\n",
    "\n",
    "# TODO: Print prediction(s)\n",
    "print(logits_to_text(bd_rnn_model.predict(tmp_x[:1])[0], french_tokenizer))"
   ]
  },
  {
   "cell_type": "markdown",
   "metadata": {},
   "source": [
    "### Model 4: Encoder-Decoder (OPTIONAL)\n",
    "Time to look at encoder-decoder models.  This model is made up of an encoder and decoder. The encoder creates a matrix representation of the sentence.  The decoder takes this matrix as input and predicts the translation as output.\n",
    "\n",
    "Create an encoder-decoder model in the cell below."
   ]
  },
  {
   "cell_type": "code",
   "execution_count": 16,
   "metadata": {},
   "outputs": [
    {
     "name": "stdout",
     "output_type": "stream",
     "text": [
      "Train on 110288 samples, validate on 27573 samples\n",
      "Epoch 1/10\n",
      "110288/110288 [==============================] - 19s 171us/step - loss: 2.9325 - acc: 0.4464 - val_loss: 2.3680 - val_acc: 0.4953\n",
      "Epoch 2/10\n",
      "110288/110288 [==============================] - 18s 163us/step - loss: 2.1823 - acc: 0.5134 - val_loss: 2.0318 - val_acc: 0.5392\n",
      "Epoch 3/10\n",
      "110288/110288 [==============================] - 18s 163us/step - loss: 1.9408 - acc: 0.5392 - val_loss: 1.8382 - val_acc: 0.5509\n",
      "Epoch 4/10\n",
      "110288/110288 [==============================] - 18s 164us/step - loss: 1.6727 - acc: 0.5674 - val_loss: 1.5547 - val_acc: 0.5825\n",
      "Epoch 5/10\n",
      "110288/110288 [==============================] - 18s 163us/step - loss: 1.5088 - acc: 0.5914 - val_loss: 1.4563 - val_acc: 0.6050\n",
      "Epoch 6/10\n",
      "110288/110288 [==============================] - 18s 163us/step - loss: 1.4252 - acc: 0.6102 - val_loss: 1.3675 - val_acc: 0.6227\n",
      "Epoch 7/10\n",
      "110288/110288 [==============================] - 18s 163us/step - loss: 1.3292 - acc: 0.6285 - val_loss: 1.2957 - val_acc: 0.6354\n",
      "Epoch 8/10\n",
      "110288/110288 [==============================] - 18s 163us/step - loss: 1.2856 - acc: 0.6362 - val_loss: 1.2795 - val_acc: 0.6335\n",
      "Epoch 9/10\n",
      "110288/110288 [==============================] - 18s 163us/step - loss: 1.2520 - acc: 0.6431 - val_loss: 1.2296 - val_acc: 0.6479\n",
      "Epoch 10/10\n",
      "110288/110288 [==============================] - 18s 163us/step - loss: 1.2358 - acc: 0.6459 - val_loss: 1.2864 - val_acc: 0.6335\n",
      "new jersey est généralement en en mois et il est est en en <PAD> <PAD> <PAD> <PAD> <PAD> <PAD> <PAD> <PAD>\n"
     ]
    }
   ],
   "source": [
    "def encdec_model(input_shape, output_sequence_length, english_vocab_size, french_vocab_size):\n",
    "    \"\"\"\n",
    "    Build and train an encoder-decoder model on x and y\n",
    "    :param input_shape: Tuple of input shape\n",
    "    :param output_sequence_length: Length of output sequence\n",
    "    :param english_vocab_size: Number of unique English words in the dataset\n",
    "    :param french_vocab_size: Number of unique French words in the dataset\n",
    "    :return: Keras model built, but not trained\n",
    "    \"\"\"\n",
    "    # OPTIONAL: Implement\n",
    "    learning_rate = 1e-3\n",
    "    \n",
    "    input_seq = Input(input_shape[1:])\n",
    "    enc_rnn = GRU(256)(input_seq)  # return_sequences=True\n",
    "    enc_out = Dense(128, activation='relu')(enc_rnn)\n",
    "    \n",
    "    dec_in = RepeatVector(output_sequence_length)(enc_out)\n",
    "    dec_rnn = GRU(256, return_sequences=True)(dec_in)  # return_sequences=True\n",
    "    dec_out = TimeDistributed(Dense(french_vocab_size, activation='softmax'))(dec_rnn)\n",
    "    \n",
    "    model = Model(input_seq, dec_out)\n",
    "    \n",
    "    model.compile(loss=sparse_categorical_crossentropy,\n",
    "                  optimizer=Adam(learning_rate),\n",
    "                  metrics=['accuracy'])\n",
    "    return model\n",
    "    \n",
    "    \n",
    "tests.test_encdec_model(encdec_model)\n",
    "\n",
    "# TODO: Reshape the input\n",
    "tmp_x = pad(preproc_english_sentences, max_french_sequence_length)\n",
    "tmp_x = tmp_x.reshape((-1, preproc_french_sentences.shape[-2],1))\n",
    "\n",
    "# OPTIONAL: Train and Print prediction(s)\n",
    "encdec_rnn_model = encdec_model(\n",
    "    tmp_x.shape,\n",
    "    max_french_sequence_length,\n",
    "    english_vocab_size+1,\n",
    "    french_vocab_size+1) # adding 1 for <PAD>\n",
    "encdec_rnn_model.fit(tmp_x, preproc_french_sentences, batch_size=1024, epochs=10, validation_split=0.2)\n",
    "\n",
    "# TODO: Print prediction(s)\n",
    "print(logits_to_text(encdec_rnn_model.predict(tmp_x[:1])[0], french_tokenizer))"
   ]
  },
  {
   "cell_type": "code",
   "execution_count": 49,
   "metadata": {},
   "outputs": [
    {
     "name": "stdout",
     "output_type": "stream",
     "text": [
      "(?, 64)\n",
      "(?, 128)\n"
     ]
    }
   ],
   "source": [
    "tmp_x = pad(preproc_english_sentences, max_french_sequence_length)\n",
    "tmp_x = tmp_x.reshape((-1, preproc_french_sentences.shape[-2],1))\n",
    "input_shape = tmp_x.shape\n",
    "output_sequence_length = max_french_sequence_length\n",
    "input_seq = Input(input_shape[1:])\n",
    "enc_rnn = GRU(64)(input_seq)\n",
    "print(enc_rnn.shape)\n",
    "enc_out = Dense(128, activation='relu')(enc_rnn)\n",
    "print(enc_out.shape)\n",
    "dec_in = RepeatVector(64)(enc_out)"
   ]
  },
  {
   "cell_type": "code",
   "execution_count": 19,
   "metadata": {},
   "outputs": [
    {
     "data": {
      "text/plain": [
       "(137861, 21, 1)"
      ]
     },
     "execution_count": 19,
     "metadata": {},
     "output_type": "execute_result"
    }
   ],
   "source": []
  },
  {
   "cell_type": "markdown",
   "metadata": {},
   "source": [
    "### Model 5: Custom (IMPLEMENTATION)\n",
    "Use everything you learned from the previous models to create a model that incorporates embedding and a bidirectional rnn into one model."
   ]
  },
  {
   "cell_type": "code",
   "execution_count": 13,
   "metadata": {},
   "outputs": [
    {
     "name": "stdout",
     "output_type": "stream",
     "text": [
      "Final Model Loaded\n"
     ]
    }
   ],
   "source": [
    "def model_final(input_shape, output_sequence_length, english_vocab_size, french_vocab_size):\n",
    "    \"\"\"\n",
    "    Build and train a model that incorporates embedding, encoder-decoder, and bidirectional RNN on x and y\n",
    "    :param input_shape: Tuple of input shape\n",
    "    :param output_sequence_length: Length of output sequence\n",
    "    :param english_vocab_size: Number of unique English words in the dataset\n",
    "    :param french_vocab_size: Number of unique French words in the dataset\n",
    "    :return: Keras model built, but not trained\n",
    "    \"\"\"\n",
    "    # TODO: Implement\n",
    "    learning_rate = 1e-3\n",
    "    \n",
    "    input_seq = Input(input_shape[1:])\n",
    "    embed = Embedding(english_vocab_size, 64, input_length=output_sequence_length)(input_seq)\n",
    "    enc_rnn = Bidirectional( GRU(512) )(embed)   # NO return_sequences=True\n",
    "    enc_out = Dense(128, activation='relu')(enc_rnn)\n",
    "    \n",
    "    dec_in = RepeatVector(output_sequence_length)(enc_out)\n",
    "    dec_rnn = Bidirectional( GRU(512, return_sequences=True) )(dec_in)\n",
    "    dec_out = TimeDistributed(Dense(french_vocab_size, activation='softmax'))(dec_rnn)\n",
    "    \n",
    "    model = Model(input_seq, dec_out)\n",
    "    \n",
    "    model.compile(loss=sparse_categorical_crossentropy,\n",
    "                  optimizer=Adam(learning_rate),\n",
    "                  metrics=['accuracy'])\n",
    "    \n",
    "    return model\n",
    "    \n",
    "\n",
    "tests.test_model_final(model_final)\n",
    "\n",
    "# Reshape the Inputs\n",
    "#tmp_x = pad(preproc_english_sentences, max_french_sequence_length)\n",
    "#tmp_x = tmp_x.reshape((-1, preproc_french_sentences.shape[-2]))\n",
    "\n",
    "# TODO: Build the neural network\n",
    "#final_rnn_model = model_final(\n",
    "#    tmp_x.shape,\n",
    "#    max_french_sequence_length,\n",
    "#    english_vocab_size+1,\n",
    "#    french_vocab_size+1) # adding 1 for <PAD>\n",
    "\n",
    "print('Final Model Loaded')\n",
    "\n",
    "# TODO: Train the final model\n",
    "#final_rnn_model.fit(tmp_x, preproc_french_sentences, batch_size=1024, epochs=10, validation_split=0.2)\n",
    "\n",
    "# TODO: Print prediction(s)\n",
    "#print(logits_to_text(final_rnn_model.predict(tmp_x[:1])[0], french_tokenizer))"
   ]
  },
  {
   "cell_type": "code",
   "execution_count": null,
   "metadata": {},
   "outputs": [],
   "source": []
  },
  {
   "cell_type": "code",
   "execution_count": 41,
   "metadata": {},
   "outputs": [
    {
     "name": "stdout",
     "output_type": "stream",
     "text": [
      "(1, 15)\n",
      "[[17 23  1  8 67  4 39  7  3  1 55  2 44  0  0  0  0  0  0  0  0]]\n",
      "(137861, 21)\n",
      "(137861, 21)\n",
      "(137861, 15)\n"
     ]
    }
   ],
   "source": [
    "tmp_x.shape[1:]\n",
    "x_tk = english_tokenizer\n",
    "x = preproc_english_sentences\n",
    "sentence = 'he saw a old yellow truck'\n",
    "sentence = [x_tk.word_index[word] for word in sentence.split()]\n",
    "sentence = pad_sequences([sentence], maxlen=x.shape[-1], padding='post')\n",
    "print(sentence.shape)\n",
    "sentences = np.array([sentence[0], x[0]])\n",
    "len(sentences)\n",
    "print(tmp_x[:1])\n",
    "sentences\n",
    "preproc_french_sentences.shape\n",
    "tmp_x = pad(preproc_english_sentences, preproc_french_sentences.shape[1])\n",
    "print(tmp_x.shape)\n",
    "tmp_x = tmp_x.reshape((-1, preproc_french_sentences.shape[-2]))\n",
    "print(tmp_x.shape)\n",
    "print(x.shape)"
   ]
  },
  {
   "cell_type": "markdown",
   "metadata": {},
   "source": [
    "## Prediction (IMPLEMENTATION)"
   ]
  },
  {
   "cell_type": "code",
   "execution_count": 14,
   "metadata": {},
   "outputs": [
    {
     "name": "stdout",
     "output_type": "stream",
     "text": [
      "Train on 110288 samples, validate on 27573 samples\n",
      "Epoch 1/30\n",
      "110288/110288 [==============================] - 61s 552us/step - loss: 2.7694 - acc: 0.4566 - val_loss: 2.0058 - val_acc: 0.5017\n",
      "Epoch 2/30\n",
      "110288/110288 [==============================] - 58s 529us/step - loss: 1.6548 - acc: 0.5699 - val_loss: 1.3994 - val_acc: 0.6145\n",
      "Epoch 3/30\n",
      "110288/110288 [==============================] - 58s 530us/step - loss: 1.2878 - acc: 0.6420 - val_loss: 1.1738 - val_acc: 0.6711\n",
      "Epoch 4/30\n",
      "110288/110288 [==============================] - 58s 526us/step - loss: 1.0985 - acc: 0.6891 - val_loss: 1.0260 - val_acc: 0.7066\n",
      "Epoch 5/30\n",
      "110288/110288 [==============================] - 58s 526us/step - loss: 0.9633 - acc: 0.7193 - val_loss: 0.9053 - val_acc: 0.7319\n",
      "Epoch 6/30\n",
      "110288/110288 [==============================] - 58s 526us/step - loss: 0.8810 - acc: 0.7369 - val_loss: 0.8373 - val_acc: 0.7481\n",
      "Epoch 7/30\n",
      "110288/110288 [==============================] - 58s 526us/step - loss: 0.8007 - acc: 0.7577 - val_loss: 0.7721 - val_acc: 0.7660\n",
      "Epoch 8/30\n",
      "110288/110288 [==============================] - 58s 526us/step - loss: 0.7333 - acc: 0.7761 - val_loss: 0.7166 - val_acc: 0.7804\n",
      "Epoch 9/30\n",
      "110288/110288 [==============================] - 58s 526us/step - loss: 0.6713 - acc: 0.7939 - val_loss: 0.6420 - val_acc: 0.8013\n",
      "Epoch 10/30\n",
      "110288/110288 [==============================] - 58s 526us/step - loss: 0.6015 - acc: 0.8135 - val_loss: 0.5743 - val_acc: 0.8202\n",
      "Epoch 11/30\n",
      "110288/110288 [==============================] - 58s 526us/step - loss: 0.5471 - acc: 0.8293 - val_loss: 0.5224 - val_acc: 0.8379\n",
      "Epoch 12/30\n",
      "110288/110288 [==============================] - 58s 526us/step - loss: 0.4933 - acc: 0.8463 - val_loss: 0.4735 - val_acc: 0.8533\n",
      "Epoch 13/30\n",
      "110288/110288 [==============================] - 58s 526us/step - loss: 0.4435 - acc: 0.8620 - val_loss: 0.4448 - val_acc: 0.8621\n",
      "Epoch 14/30\n",
      "110288/110288 [==============================] - 58s 526us/step - loss: 0.4040 - acc: 0.8752 - val_loss: 0.3979 - val_acc: 0.8773\n",
      "Epoch 15/30\n",
      "110288/110288 [==============================] - 58s 526us/step - loss: 0.3529 - acc: 0.8923 - val_loss: 0.3393 - val_acc: 0.8977\n",
      "Epoch 16/30\n",
      "110288/110288 [==============================] - 58s 526us/step - loss: 0.3139 - acc: 0.9046 - val_loss: 0.2966 - val_acc: 0.9108\n",
      "Epoch 17/30\n",
      "110288/110288 [==============================] - 58s 526us/step - loss: 0.2751 - acc: 0.9169 - val_loss: 0.2671 - val_acc: 0.9186\n",
      "Epoch 18/30\n",
      "110288/110288 [==============================] - 58s 526us/step - loss: 0.2418 - acc: 0.9272 - val_loss: 0.2303 - val_acc: 0.9320\n",
      "Epoch 19/30\n",
      "110288/110288 [==============================] - 58s 526us/step - loss: 0.2146 - acc: 0.9356 - val_loss: 0.2175 - val_acc: 0.9349\n",
      "Epoch 20/30\n",
      "110288/110288 [==============================] - 58s 526us/step - loss: 0.1986 - acc: 0.9400 - val_loss: 0.1921 - val_acc: 0.9424\n",
      "Epoch 21/30\n",
      "110288/110288 [==============================] - 59s 530us/step - loss: 0.1719 - acc: 0.9482 - val_loss: 0.1712 - val_acc: 0.9487\n",
      "Epoch 22/30\n",
      "110288/110288 [==============================] - 58s 525us/step - loss: 0.1545 - acc: 0.9533 - val_loss: 0.1551 - val_acc: 0.9532\n",
      "Epoch 23/30\n",
      "110288/110288 [==============================] - 58s 525us/step - loss: 0.1426 - acc: 0.9565 - val_loss: 0.1532 - val_acc: 0.9525\n",
      "Epoch 24/30\n",
      "110288/110288 [==============================] - 58s 527us/step - loss: 0.1362 - acc: 0.9579 - val_loss: 0.1479 - val_acc: 0.9546\n",
      "Epoch 25/30\n",
      "110288/110288 [==============================] - 58s 525us/step - loss: 0.1262 - acc: 0.9608 - val_loss: 0.1301 - val_acc: 0.9594\n",
      "Epoch 26/30\n",
      "110288/110288 [==============================] - 58s 526us/step - loss: 0.1114 - acc: 0.9655 - val_loss: 0.1330 - val_acc: 0.9589\n",
      "Epoch 27/30\n",
      "110288/110288 [==============================] - 58s 526us/step - loss: 0.1068 - acc: 0.9668 - val_loss: 0.1185 - val_acc: 0.9632\n",
      "Epoch 28/30\n",
      "110288/110288 [==============================] - 58s 526us/step - loss: 0.0964 - acc: 0.9699 - val_loss: 0.1135 - val_acc: 0.9646\n",
      "Epoch 29/30\n",
      "110288/110288 [==============================] - 58s 526us/step - loss: 0.0899 - acc: 0.9721 - val_loss: 0.1057 - val_acc: 0.9674\n",
      "Epoch 30/30\n",
      "110288/110288 [==============================] - 58s 526us/step - loss: 0.0850 - acc: 0.9735 - val_loss: 0.1010 - val_acc: 0.9685\n",
      "Sample 1:\n",
      "il a vu un vieux camion jaune <PAD> <PAD> <PAD> <PAD> <PAD> <PAD> <PAD> <PAD> <PAD> <PAD> <PAD> <PAD> <PAD> <PAD>\n",
      "Il a vu un vieux camion jaune\n",
      "Sample 2:\n",
      "new jersey est parfois calme pendant l' automne et il est neigeux en avril <PAD> <PAD> <PAD> <PAD> <PAD> <PAD> <PAD>\n",
      "new jersey est parfois calme pendant l' automne et il est neigeux en avril <PAD> <PAD> <PAD> <PAD> <PAD> <PAD> <PAD>\n"
     ]
    }
   ],
   "source": [
    "def final_predictions(x, y, x_tk, y_tk):\n",
    "    \"\"\"\n",
    "    Gets predictions using the final model\n",
    "    :param x: Preprocessed English data\n",
    "    :param y: Preprocessed French data\n",
    "    :param x_tk: English tokenizer\n",
    "    :param y_tk: French tokenizer\n",
    "    \"\"\"\n",
    "\n",
    "    # Reshape input data\n",
    "    #tmp_x = pad(preproc_english_sentences, y.shape[1])\n",
    "    #tmp_x = tmp_x.reshape((-1, y.shape[-2]))\n",
    "    \n",
    "    # TODO: Train neural network using model_final\n",
    "    model = model_final(\n",
    "        #tmp_x.shape,\n",
    "        x.shape,\n",
    "        y.shape[1],\n",
    "        len(x_tk.word_index)+1,\n",
    "        len(y_tk.word_index)+1)\n",
    "    model.fit(x, y, batch_size=1024, epochs=30, validation_split=0.2)  #tmp_x\n",
    "    \n",
    "    ## DON'T EDIT ANYTHING BELOW THIS LINE\n",
    "    y_id_to_word = {value: key for key, value in y_tk.word_index.items()}\n",
    "    y_id_to_word[0] = '<PAD>'\n",
    "\n",
    "    sentence = 'he saw a old yellow truck'\n",
    "    sentence = [x_tk.word_index[word] for word in sentence.split()]\n",
    "    sentence = pad_sequences([sentence], maxlen=x.shape[-1], padding='post')\n",
    "    sentences = np.array([sentence[0], x[0]])\n",
    "    predictions = model.predict(sentences, len(sentences))\n",
    "\n",
    "    print('Sample 1:')\n",
    "    print(' '.join([y_id_to_word[np.argmax(x)] for x in predictions[0]]))\n",
    "    print('Il a vu un vieux camion jaune')\n",
    "    print('Sample 2:')\n",
    "    print(' '.join([y_id_to_word[np.argmax(x)] for x in predictions[1]]))\n",
    "    print(' '.join([y_id_to_word[np.max(x)] for x in y[0]]))\n",
    "\n",
    "\n",
    "final_predictions(preproc_english_sentences, preproc_french_sentences, english_tokenizer, french_tokenizer)"
   ]
  },
  {
   "cell_type": "markdown",
   "metadata": {},
   "source": [
    "## Submission\n",
    "When you're ready to submit, complete the following steps:\n",
    "1. Review the [rubric](https://review.udacity.com/#!/rubrics/1004/view) to ensure your submission meets all requirements to pass\n",
    "2. Generate an HTML version of this notebook\n",
    "\n",
    "  - Run the next cell to attempt automatic generation (this is the recommended method in Workspaces)\n",
    "  - Navigate to **FILE -> Download as -> HTML (.html)**\n",
    "  - Manually generate a copy using `nbconvert` from your shell terminal\n",
    "```\n",
    "$ pip install nbconvert\n",
    "$ python -m nbconvert machine_translation.ipynb\n",
    "```\n",
    "  \n",
    "3. Submit the project\n",
    "\n",
    "  - If you are in a Workspace, simply click the \"Submit Project\" button (bottom towards the right)\n",
    "  \n",
    "  - Otherwise, add the following files into a zip archive and submit them \n",
    "  - `helper.py`\n",
    "  - `machine_translation.ipynb`\n",
    "  - `machine_translation.html`\n",
    "    - You can export the notebook by navigating to **File -> Download as -> HTML (.html)**."
   ]
  },
  {
   "cell_type": "markdown",
   "metadata": {},
   "source": [
    "### Generate the html\n",
    "\n",
    "**Save your notebook before running the next cell to generate the HTML output.** Then submit your project."
   ]
  },
  {
   "cell_type": "code",
   "execution_count": 2,
   "metadata": {},
   "outputs": [
    {
     "data": {
      "text/plain": [
       "['[NbConvertApp] Converting notebook machine_translation.ipynb to html',\n",
       " '[NbConvertApp] Writing 305996 bytes to machine_translation.html']"
      ]
     },
     "execution_count": 2,
     "metadata": {},
     "output_type": "execute_result"
    }
   ],
   "source": [
    "# Save before you run this cell!\n",
    "!!jupyter nbconvert *.ipynb"
   ]
  },
  {
   "cell_type": "markdown",
   "metadata": {},
   "source": [
    "## Optional Enhancements\n",
    "\n",
    "This project focuses on learning various network architectures for machine translation, but we don't evaluate the models according to best practices by splitting the data into separate test & training sets -- so the model accuracy is overstated. Use the [`sklearn.model_selection.train_test_split()`](http://scikit-learn.org/stable/modules/generated/sklearn.model_selection.train_test_split.html) function to create separate training & test datasets, then retrain each of the models using only the training set and evaluate the prediction accuracy using the hold out test set. Does the \"best\" model change?"
   ]
  }
 ],
 "metadata": {
  "kernelspec": {
   "display_name": "Python 3",
   "language": "python",
   "name": "python3"
  },
  "language_info": {
   "codemirror_mode": {
    "name": "ipython",
    "version": 3
   },
   "file_extension": ".py",
   "mimetype": "text/x-python",
   "name": "python",
   "nbconvert_exporter": "python",
   "pygments_lexer": "ipython3",
   "version": "3.7.6"
  }
 },
 "nbformat": 4,
 "nbformat_minor": 1
}
