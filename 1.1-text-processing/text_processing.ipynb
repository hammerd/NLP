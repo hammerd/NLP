{
 "cells": [
  {
   "cell_type": "markdown",
   "metadata": {},
   "source": [
    "# Text Processing\n",
    "\n",
    "## Capturing Text Data\n",
    "\n",
    "### Plain Text"
   ]
  },
  {
   "cell_type": "code",
   "execution_count": 2,
   "metadata": {},
   "outputs": [
    {
     "name": "stdout",
     "output_type": "stream",
     "text": [
      "Hieroglyphic writing dates from c. 3000 BC, and is composed of hundreds of symbols. A hieroglyph can represent a word, a sound, or a silent determinative; and the same symbol can serve different purposes in different contexts. Hieroglyphs were a formal script, used on stone monuments and in tombs, that could be as detailed as individual works of art.\n",
      "\n"
     ]
    }
   ],
   "source": [
    "import os\n",
    "\n",
    "# Read in a plain text file\n",
    "with open(os.path.join(\"data\", \"hieroglyph.txt\"), \"r\") as f:\n",
    "    text = f.read()\n",
    "    print(text)"
   ]
  },
  {
   "cell_type": "markdown",
   "metadata": {},
   "source": [
    "### Tabular Data"
   ]
  },
  {
   "cell_type": "code",
   "execution_count": 3,
   "metadata": {
    "scrolled": true
   },
   "outputs": [
    {
     "data": {
      "text/html": [
       "<div>\n",
       "<style scoped>\n",
       "    .dataframe tbody tr th:only-of-type {\n",
       "        vertical-align: middle;\n",
       "    }\n",
       "\n",
       "    .dataframe tbody tr th {\n",
       "        vertical-align: top;\n",
       "    }\n",
       "\n",
       "    .dataframe thead th {\n",
       "        text-align: right;\n",
       "    }\n",
       "</style>\n",
       "<table border=\"1\" class=\"dataframe\">\n",
       "  <thead>\n",
       "    <tr style=\"text-align: right;\">\n",
       "      <th></th>\n",
       "      <th>publisher</th>\n",
       "      <th>title</th>\n",
       "    </tr>\n",
       "  </thead>\n",
       "  <tbody>\n",
       "    <tr>\n",
       "      <th>0</th>\n",
       "      <td>Livemint</td>\n",
       "      <td>fed's charles plosser sees high bar for change...</td>\n",
       "    </tr>\n",
       "    <tr>\n",
       "      <th>1</th>\n",
       "      <td>IFA Magazine</td>\n",
       "      <td>us open: stocks fall after fed official hints ...</td>\n",
       "    </tr>\n",
       "    <tr>\n",
       "      <th>2</th>\n",
       "      <td>IFA Magazine</td>\n",
       "      <td>fed risks falling 'behind the curve', charles ...</td>\n",
       "    </tr>\n",
       "    <tr>\n",
       "      <th>3</th>\n",
       "      <td>Moneynews</td>\n",
       "      <td>fed's plosser: nasty weather has curbed job gr...</td>\n",
       "    </tr>\n",
       "    <tr>\n",
       "      <th>4</th>\n",
       "      <td>NASDAQ</td>\n",
       "      <td>plosser: fed may have to accelerate tapering pace</td>\n",
       "    </tr>\n",
       "  </tbody>\n",
       "</table>\n",
       "</div>"
      ],
      "text/plain": [
       "      publisher                                              title\n",
       "0      Livemint  fed's charles plosser sees high bar for change...\n",
       "1  IFA Magazine  us open: stocks fall after fed official hints ...\n",
       "2  IFA Magazine  fed risks falling 'behind the curve', charles ...\n",
       "3     Moneynews  fed's plosser: nasty weather has curbed job gr...\n",
       "4        NASDAQ  plosser: fed may have to accelerate tapering pace"
      ]
     },
     "execution_count": 3,
     "metadata": {},
     "output_type": "execute_result"
    }
   ],
   "source": [
    "import pandas as pd\n",
    "\n",
    "# Extract text column from a dataframe\n",
    "df = pd.read_csv(os.path.join(\"data\", \"news.csv\"))\n",
    "df.head()[['publisher', 'title']]\n",
    "\n",
    "# Convert text column to lowercase\n",
    "df['title'] = df['title'].str.lower()\n",
    "df.head()[['publisher', 'title']]"
   ]
  },
  {
   "cell_type": "markdown",
   "metadata": {},
   "source": [
    "### Online Resource"
   ]
  },
  {
   "cell_type": "code",
   "execution_count": 4,
   "metadata": {
    "scrolled": true
   },
   "outputs": [
    {
     "name": "stdout",
     "output_type": "stream",
     "text": [
      "{\n",
      "    \"success\": {\n",
      "        \"total\": 1\n",
      "    },\n",
      "    \"contents\": {\n",
      "        \"quotes\": [\n",
      "            {\n",
      "                \"quote\": \"Let go of who you think you're supposed to be; embrace who you are.\",\n",
      "                \"length\": \"67\",\n",
      "                \"author\": \"Brene Brown\",\n",
      "                \"tags\": [\n",
      "                    \"inspire\"\n",
      "                ],\n",
      "                \"category\": \"inspire\",\n",
      "                \"language\": \"en\",\n",
      "                \"date\": \"2021-02-21\",\n",
      "                \"permalink\": \"https://theysaidso.com/quote/brene-brown-let-go-of-who-you-think-youre-supposed-to-be-embrace-who-you-are\",\n",
      "                \"id\": \"ExBAaCfobpZ_n3qlh_up7weF\",\n",
      "                \"background\": \"https://theysaidso.com/img/qod/qod-inspire.jpg\",\n",
      "                \"title\": \"Inspiring Quote of the day\"\n",
      "            }\n",
      "        ]\n",
      "    },\n",
      "    \"baseurl\": \"https://theysaidso.com\",\n",
      "    \"copyright\": {\n",
      "        \"year\": 2023,\n",
      "        \"url\": \"https://theysaidso.com\"\n",
      "    }\n",
      "}\n",
      "Let go of who you think you're supposed to be; embrace who you are. \n",
      "-- Brene Brown\n"
     ]
    }
   ],
   "source": [
    "import requests\n",
    "import json\n",
    "\n",
    "# Fetch data from a REST API\n",
    "r = requests.get(\n",
    "    \"https://quotes.rest/qod.json\")\n",
    "res = r.json()\n",
    "print(json.dumps(res, indent=4))\n",
    "\n",
    "# Extract relevant object and field\n",
    "q = res[\"contents\"][\"quotes\"][0]\n",
    "print(q[\"quote\"], \"\\n--\", q[\"author\"])"
   ]
  },
  {
   "cell_type": "markdown",
   "metadata": {},
   "source": [
    "## Cleaning\n",
    "### Using built-in python regex library\n",
    "- separates text by removing html tags but leaves java script, nested html tags, & other misc items\n",
    "\n",
    "### Beautiful Soup\n",
    "- extracts plain text from html including nested tags, tags across multiple lines, forgives some html coding errors, & other corner cases\n",
    "- still leaves java script, lots of spaces, and some other items\n",
    "- can scrap the remaining items by selecting text via html tag type & attribute to get, for example, title and description\n"
   ]
  },
  {
   "cell_type": "code",
   "execution_count": 5,
   "metadata": {
    "scrolled": true
   },
   "outputs": [
    {
     "name": "stdout",
     "output_type": "stream",
     "text": [
      "<html lang=\"en\" op=\"news\"><head><meta name=\"referrer\" content=\"origin\"><meta name=\"viewport\" content=\"width=device-width, initial-scale=1.0\"><link rel=\"stylesheet\" type=\"text/css\" href=\"news.css?duij9W8mgXa9RkdF5Ppb\">\n",
      "        <link rel=\"shortcut icon\" href=\"favicon.ico\">\n",
      "          <link rel=\"alternate\" type=\"application/rss+xml\" title=\"RSS\" href=\"rss\">\n",
      "        <title>Hacker News</title></head><body><center><table id=\"hnmain\" border=\"0\" cellpadding=\"0\" cellspacing=\"0\" width=\"85%\" bgcolor=\"#f6f6ef\">\n",
      "        <tr><td bgcolor=\"#ff6600\"><table border=\"0\" cellpadding=\"0\" cellspacing=\"0\" width=\"100%\" style=\"padding:2px\"><tr><td style=\"width:18px;padding-right:4px\"><a href=\"https://news.ycombinator.com\"><img src=\"y18.gif\" width=\"18\" height=\"18\" style=\"border:1px white solid;\"></a></td>\n",
      "                  <td style=\"line-height:12pt; height:10px;\"><span class=\"pagetop\"><b class=\"hnname\"><a href=\"news\">Hacker News</a></b>\n",
      "              <a href=\"newest\">new</a> | <a href=\"front\">past</a> | <a href=\"newcomments\">comments</a> | <a href=\"ask\">ask</a> | <a href=\"show\">show</a> | <a href=\"jobs\">jobs</a> | <a href=\"submit\">submit</a>            </span></td><td style=\"text-align:right;padding-right:4px;\"><span class=\"pagetop\">\n",
      "                              <a href=\"login?goto=news\">login</a>\n",
      "                          </span></td>\n",
      "              </tr></table></td></tr>\n",
      "<tr id=\"pagespace\" title=\"\" style=\"height:10px\"></tr><tr><td><table border=\"0\" cellpadding=\"0\" cellspacing=\"0\" class=\"itemlist\">\n",
      "              <tr class='athing' id='26217564'>\n",
      "      <td align=\"right\" valign=\"top\" class=\"title\"><span class=\"rank\">1.</span></td>      <td valign=\"top\" class=\"votelinks\"><center><a id='up_26217564' href='vote?id=26217564&amp;how=up&amp;goto=news'><div class='votearrow' title='upvote'></div></a></center></td><td class=\"title\"><a href=\"https://www.thedrive.com/tech/39309/the-apparent-hackers-behind-kias-ransomware-attack-are-demanding-millions-in-bitcoin\" class=\"storylink\">Apparent hackers behind Kia ransomware attack demand millions in Bitcoin</a><span class=\"sitebit comhead\"> (<a href=\"from?site=thedrive.com\"><span class=\"sitestr\">thedrive.com</span></a>)</span></td></tr><tr><td colspan=\"2\"></td><td class=\"subtext\">\n",
      "        <span class=\"score\" id=\"score_26217564\">137 points</span> by <a href=\"user?id=ourmandave\" class=\"hnuser\">ourmandave</a> <span class=\"age\"><a href=\"item?id=26217564\">2 hours ago</a></span> <span id=\"unv_26217564\"></span> | <a href=\"hide?id=26217564&amp;goto=news\">hide</a> | <a href=\"item?id=26217564\">145&nbsp;comments</a>              </td></tr>\n",
      "      <tr class=\"spacer\" style=\"height:5px\"></tr>\n",
      "                <tr class='athing' id='26205941'>\n",
      "      <td align=\"right\" valign=\"top\" class=\"title\"><span class=\"rank\">2.</span></td>      <td valign=\"top\" class=\"votelinks\"><center><a id='up_26205941' href='vote?id=26205941&amp;how=up&amp;goto=news'><div class='votearrow' title='upvote'></div></a></center></td><td class=\"title\"><a href=\"https://najinsan.wordpress.com/2021/02/15/i-paid-for-spotify-playlist-placements-so-you-dont-have-to/\" class=\"storylink\">I paid for Spotify playlist placements so you don’t have to</a><span class=\"sitebit comhead\"> (<a href=\"from?site=najinsan.wordpress.com\"><span class=\"sitestr\">najinsan.wordpress.com</span></a>)</span></td></tr><tr><td colspan=\"2\"></td><td class=\"subtext\">\n",
      "        <span class=\"score\" id=\"score_26205941\">35 points</span> by <a href=\"user?id=pgl\" class=\"hnuser\">pgl</a> <span class=\"age\"><a href=\"item?id=26205941\">2 hours ago</a></span> <span id=\"unv_26205941\"></span> | <a href=\"hide?id=26205941&amp;goto=news\">hide</a> | <a href=\"item?id=26205941\">6&nbsp;comments</a>              </td></tr>\n",
      "      <tr class=\"spacer\" style=\"height:5px\"></tr>\n",
      "                <tr class='athing' id='26216016'>\n",
      "      <td align=\"right\" valign=\"top\" class=\"title\"><span class=\"rank\">3.</span></td>      <td valign=\"top\" class=\"votelinks\"><center><a id='up_26216016' href='vote?id=26216016&amp;how=up&amp;goto=news'><div class='votearrow' title='upvote'></div></a></center></td><td class=\"title\"><a href=\"https://css-tricks.com/mistakes-ive-made-as-an-engineering-manager/\" class=\"storylink\">Mistakes I've Made as an Engineering Manager</a><span class=\"sitebit comhead\"> (<a href=\"from?site=css-tricks.com\"><span class=\"sitestr\">css-tricks.com</span></a>)</span></td></tr><tr><td colspan=\"2\"></td><td class=\"subtext\">\n",
      "        <span class=\"score\" id=\"score_26216016\">182 points</span> by <a href=\"user?id=sebg\" class=\"hnuser\">sebg</a> <span class=\"age\"><a href=\"item?id=26216016\">5 hours ago</a></span> <span id=\"unv_26216016\"></span> | <a href=\"hide?id=26216016&amp;goto=news\">hide</a> | <a href=\"item?id=26216016\">72&nbsp;comments</a>              </td></tr>\n",
      "      <tr class=\"spacer\" style=\"height:5px\"></tr>\n",
      "                <tr class='athing' id='26217754'>\n",
      "      <td align=\"right\" valign=\"top\" class=\"title\"><span class=\"rank\">4.</span></td>      <td valign=\"top\" class=\"votelinks\"><center><a id='up_26217754' href='vote?id=26217754&amp;how=up&amp;goto=news'><div class='votearrow' title='upvote'></div></a></center></td><td class=\"title\"><a href=\"https://simonwillison.net/2021/Feb/21/cross-database-queries/\" class=\"storylink\">Cross-Database Queries in SQLite</a><span class=\"sitebit comhead\"> (<a href=\"from?site=simonwillison.net\"><span class=\"sitestr\">simonwillison.net</span></a>)</span></td></tr><tr><td colspan=\"2\"></td><td class=\"subtext\">\n",
      "        <span class=\"score\" id=\"score_26217754\">26 points</span> by <a href=\"user?id=chmaynard\" class=\"hnuser\">chmaynard</a> <span class=\"age\"><a href=\"item?id=26217754\">1 hour ago</a></span> <span id=\"unv_26217754\"></span> | <a href=\"hide?id=26217754&amp;goto=news\">hide</a> | <a href=\"item?id=26217754\">15&nbsp;comments</a>              </td></tr>\n",
      "      <tr class=\"spacer\" style=\"height:5px\"></tr>\n",
      "                <tr class='athing' id='26203853'>\n",
      "      <td align=\"right\" valign=\"top\" class=\"title\"><span class=\"rank\">5.</span></td>      <td valign=\"top\" class=\"votelinks\"><center><a id='up_26203853' href='vote?id=26203853&amp;how=up&amp;goto=news'><div class='votearrow' title='upvote'></div></a></center></td><td class=\"title\"><a href=\"https://blogs.gentoo.org/mgorny/2021/02/19/the-modern-packagers-security-nightmare/\" class=\"storylink\">The modern packager’s security nightmare</a><span class=\"sitebit comhead\"> (<a href=\"from?site=gentoo.org\"><span class=\"sitestr\">gentoo.org</span></a>)</span></td></tr><tr><td colspan=\"2\"></td><td class=\"subtext\">\n",
      "        <span class=\"score\" id=\"score_26203853\">184 points</span> by <a href=\"user?id=summm\" class=\"hnuser\">summm</a> <span class=\"age\"><a href=\"item?id=26203853\">5 hours ago</a></span> <span id=\"unv_26203853\"></span> | <a href=\"hide?id=26203853&amp;goto=news\">hide</a> | <a href=\"item?id=26203853\">130&nbsp;comments</a>              </td></tr>\n",
      "      <tr class=\"spacer\" style=\"height:5px\"></tr>\n",
      "                <tr class='athing' id='26215112'>\n",
      "      <td align=\"right\" valign=\"top\" class=\"title\"><span class=\"rank\">6.</span></td>      <td valign=\"top\" class=\"votelinks\"><center><a id='up_26215112' href='vote?id=26215112&amp;how=up&amp;goto=news'><div class='votearrow' title='upvote'></div></a></center></td><td class=\"title\"><a href=\"https://blog.hboeck.de/archives/904-Please-do-not-put-IP-addresses-into-DNS-MX-records.html\" class=\"storylink\">Please do not put IP addresses into DNS MX records</a><span class=\"sitebit comhead\"> (<a href=\"from?site=hboeck.de\"><span class=\"sitestr\">hboeck.de</span></a>)</span></td></tr><tr><td colspan=\"2\"></td><td class=\"subtext\">\n",
      "        <span class=\"score\" id=\"score_26215112\">138 points</span> by <a href=\"user?id=hannob\" class=\"hnuser\">hannob</a> <span class=\"age\"><a href=\"item?id=26215112\">6 hours ago</a></span> <span id=\"unv_26215112\"></span> | <a href=\"hide?id=26215112&amp;goto=news\">hide</a> | <a href=\"item?id=26215112\">124&nbsp;comments</a>              </td></tr>\n",
      "      <tr class=\"spacer\" style=\"height:5px\"></tr>\n",
      "                <tr class='athing' id='26216357'>\n",
      "      <td align=\"right\" valign=\"top\" class=\"title\"><span class=\"rank\">7.</span></td>      <td valign=\"top\" class=\"votelinks\"><center><a id='up_26216357' href='vote?id=26216357&amp;how=up&amp;goto=news'><div class='votearrow' title='upvote'></div></a></center></td><td class=\"title\"><a href=\"https://www.invisible-computers.com/\" class=\"storylink\">Feedback Welcome: I am developing an e-paper calendar as a consumer product</a><span class=\"sitebit comhead\"> (<a href=\"from?site=invisible-computers.com\"><span class=\"sitestr\">invisible-computers.com</span></a>)</span></td></tr><tr><td colspan=\"2\"></td><td class=\"subtext\">\n",
      "        <span class=\"score\" id=\"score_26216357\">62 points</span> by <a href=\"user?id=konschubert\" class=\"hnuser\">konschubert</a> <span class=\"age\"><a href=\"item?id=26216357\">4 hours ago</a></span> <span id=\"unv_26216357\"></span> | <a href=\"hide?id=26216357&amp;goto=news\">hide</a> | <a href=\"item?id=26216357\">80&nbsp;comments</a>              </td></tr>\n",
      "      <tr class=\"spacer\" style=\"height:5px\"></tr>\n",
      "                <tr class='athing' id='26213984'>\n",
      "      <td align=\"right\" valign=\"top\" class=\"title\"><span class=\"rank\">8.</span></td>      <td valign=\"top\" class=\"votelinks\"><center><a id='up_26213984' href='vote?id=26213984&amp;how=up&amp;goto=news'><div class='votearrow' title='upvote'></div></a></center></td><td class=\"title\"><a href=\"https://www.newyorker.com/tech/annals-of-technology/the-activists-who-embrace-nuclear-power\" class=\"storylink\">Activists who embrace nuclear power</a><span class=\"sitebit comhead\"> (<a href=\"from?site=newyorker.com\"><span class=\"sitestr\">newyorker.com</span></a>)</span></td></tr><tr><td colspan=\"2\"></td><td class=\"subtext\">\n",
      "        <span class=\"score\" id=\"score_26213984\">169 points</span> by <a href=\"user?id=pseudolus\" class=\"hnuser\">pseudolus</a> <span class=\"age\"><a href=\"item?id=26213984\">8 hours ago</a></span> <span id=\"unv_26213984\"></span> | <a href=\"hide?id=26213984&amp;goto=news\">hide</a> | <a href=\"item?id=26213984\">338&nbsp;comments</a>              </td></tr>\n",
      "      <tr class=\"spacer\" style=\"height:5px\"></tr>\n",
      "                <tr class='athing' id='26217757'>\n",
      "      <td align=\"right\" valign=\"top\" class=\"title\"><span class=\"rank\">9.</span></td>      <td valign=\"top\" class=\"votelinks\"><center><a id='up_26217757' href='vote?id=26217757&amp;how=up&amp;goto=news'><div class='votearrow' title='upvote'></div></a></center></td><td class=\"title\"><a href=\"https://www.nybooks.com/articles/2021/03/11/engineers-humanists-renaissance-inventions/\" class=\"storylink\">When Engineers Were Humanists</a><span class=\"sitebit comhead\"> (<a href=\"from?site=nybooks.com\"><span class=\"sitestr\">nybooks.com</span></a>)</span></td></tr><tr><td colspan=\"2\"></td><td class=\"subtext\">\n",
      "        <span class=\"score\" id=\"score_26217757\">17 points</span> by <a href=\"user?id=mitchbob\" class=\"hnuser\">mitchbob</a> <span class=\"age\"><a href=\"item?id=26217757\">1 hour ago</a></span> <span id=\"unv_26217757\"></span> | <a href=\"hide?id=26217757&amp;goto=news\">hide</a> | <a href=\"item?id=26217757\">discuss</a>              </td></tr>\n",
      "      <tr class=\"spacer\" style=\"height:5px\"></tr>\n",
      "                <tr class='athing' id='26214593'>\n",
      "      <td align=\"right\" valign=\"top\" class=\"title\"><span class=\"rank\">10.</span></td>      <td valign=\"top\" class=\"votelinks\"><center><a id='up_26214593' href='vote?id=26214593&amp;how=up&amp;goto=news'><div class='votearrow' title='upvote'></div></a></center></td><td class=\"title\"><a href=\"https://xenaproject.wordpress.com/2021/01/21/formalising-mathematics-an-introduction/\" class=\"storylink\">Formalising Mathematics: An Introduction</a><span class=\"sitebit comhead\"> (<a href=\"from?site=xenaproject.wordpress.com\"><span class=\"sitestr\">xenaproject.wordpress.com</span></a>)</span></td></tr><tr><td colspan=\"2\"></td><td class=\"subtext\">\n",
      "        <span class=\"score\" id=\"score_26214593\">150 points</span> by <a href=\"user?id=panic\" class=\"hnuser\">panic</a> <span class=\"age\"><a href=\"item?id=26214593\">7 hours ago</a></span> <span id=\"unv_26214593\"></span> | <a href=\"hide?id=26214593&amp;goto=news\">hide</a> | <a href=\"item?id=26214593\">79&nbsp;comments</a>              </td></tr>\n",
      "      <tr class=\"spacer\" style=\"height:5px\"></tr>\n",
      "                <tr class='athing' id='26216036'>\n",
      "      <td align=\"right\" valign=\"top\" class=\"title\"><span class=\"rank\">11.</span></td>      <td valign=\"top\" class=\"votelinks\"><center><a id='up_26216036' href='vote?id=26216036&amp;how=up&amp;goto=news'><div class='votearrow' title='upvote'></div></a></center></td><td class=\"title\"><a href=\"https://en.wikipedia.org/wiki/Project_Xanadu\" class=\"storylink\">Project Xanadu</a><span class=\"sitebit comhead\"> (<a href=\"from?site=wikipedia.org\"><span class=\"sitestr\">wikipedia.org</span></a>)</span></td></tr><tr><td colspan=\"2\"></td><td class=\"subtext\">\n",
      "        <span class=\"score\" id=\"score_26216036\">64 points</span> by <a href=\"user?id=alokrai\" class=\"hnuser\">alokrai</a> <span class=\"age\"><a href=\"item?id=26216036\">4 hours ago</a></span> <span id=\"unv_26216036\"></span> | <a href=\"hide?id=26216036&amp;goto=news\">hide</a> | <a href=\"item?id=26216036\">38&nbsp;comments</a>              </td></tr>\n",
      "      <tr class=\"spacer\" style=\"height:5px\"></tr>\n",
      "                <tr class='athing' id='26217145'>\n",
      "      <td align=\"right\" valign=\"top\" class=\"title\"><span class=\"rank\">12.</span></td>      <td></td><td class=\"title\"><a href=\"https://blog.repl.it/seriesa\" class=\"storylink\" rel=\"nofollow\">Replit (YC W18) is hiring to make computing more accessible</a><span class=\"sitebit comhead\"> (<a href=\"from?site=repl.it\"><span class=\"sitestr\">repl.it</span></a>)</span></td></tr><tr><td colspan=\"2\"></td><td class=\"subtext\">\n",
      "        <span class=\"age\"><a href=\"item?id=26217145\">2 hours ago</a></span> | <a href=\"hide?id=26217145&amp;goto=news\">hide</a>      </td></tr>\n",
      "      <tr class=\"spacer\" style=\"height:5px\"></tr>\n",
      "                <tr class='athing' id='26216509'>\n",
      "      <td align=\"right\" valign=\"top\" class=\"title\"><span class=\"rank\">13.</span></td>      <td valign=\"top\" class=\"votelinks\"><center><a id='up_26216509' href='vote?id=26216509&amp;how=up&amp;goto=news'><div class='votearrow' title='upvote'></div></a></center></td><td class=\"title\"><a href=\"https://www.hawaiinewsnow.com/2021/02/21/it-just-blew-fire-kauai-woman-watched-engine-failed-united-flight/\" class=\"storylink\">‘It just blew fire’: Kauai woman watched as an engine fell apart on flight 328</a><span class=\"sitebit comhead\"> (<a href=\"from?site=hawaiinewsnow.com\"><span class=\"sitestr\">hawaiinewsnow.com</span></a>)</span></td></tr><tr><td colspan=\"2\"></td><td class=\"subtext\">\n",
      "        <span class=\"score\" id=\"score_26216509\">35 points</span> by <a href=\"user?id=lightlyused\" class=\"hnuser\">lightlyused</a> <span class=\"age\"><a href=\"item?id=26216509\">4 hours ago</a></span> <span id=\"unv_26216509\"></span> | <a href=\"hide?id=26216509&amp;goto=news\">hide</a> | <a href=\"item?id=26216509\">36&nbsp;comments</a>              </td></tr>\n",
      "      <tr class=\"spacer\" style=\"height:5px\"></tr>\n",
      "                <tr class='athing' id='26215378'>\n",
      "      <td align=\"right\" valign=\"top\" class=\"title\"><span class=\"rank\">14.</span></td>      <td valign=\"top\" class=\"votelinks\"><center><a id='up_26215378' href='vote?id=26215378&amp;how=up&amp;goto=news'><div class='votearrow' title='upvote'></div></a></center></td><td class=\"title\"><a href=\"https://tinyads.io\" class=\"storylink\">Show HN: Ad Network for Sideprojects</a><span class=\"sitebit comhead\"> (<a href=\"from?site=tinyads.io\"><span class=\"sitestr\">tinyads.io</span></a>)</span></td></tr><tr><td colspan=\"2\"></td><td class=\"subtext\">\n",
      "        <span class=\"score\" id=\"score_26215378\">102 points</span> by <a href=\"user?id=ezzato\" class=\"hnuser\">ezzato</a> <span class=\"age\"><a href=\"item?id=26215378\">6 hours ago</a></span> <span id=\"unv_26215378\"></span> | <a href=\"hide?id=26215378&amp;goto=news\">hide</a> | <a href=\"item?id=26215378\">39&nbsp;comments</a>              </td></tr>\n",
      "      <tr class=\"spacer\" style=\"height:5px\"></tr>\n",
      "                <tr class='athing' id='26215764'>\n",
      "      <td align=\"right\" valign=\"top\" class=\"title\"><span class=\"rank\">15.</span></td>      <td valign=\"top\" class=\"votelinks\"><center><a id='up_26215764' href='vote?id=26215764&amp;how=up&amp;goto=news'><div class='votearrow' title='upvote'></div></a></center></td><td class=\"title\"><a href=\"http://grantland.com/features/diplomacy-the-board-game-of-the-alpha-nerds/\" class=\"storylink\">Diplomacy: The Board Game of the Alpha Nerds (2014)</a><span class=\"sitebit comhead\"> (<a href=\"from?site=grantland.com\"><span class=\"sitestr\">grantland.com</span></a>)</span></td></tr><tr><td colspan=\"2\"></td><td class=\"subtext\">\n",
      "        <span class=\"score\" id=\"score_26215764\">86 points</span> by <a href=\"user?id=ollieglass\" class=\"hnuser\">ollieglass</a> <span class=\"age\"><a href=\"item?id=26215764\">5 hours ago</a></span> <span id=\"unv_26215764\"></span> | <a href=\"hide?id=26215764&amp;goto=news\">hide</a> | <a href=\"item?id=26215764\">47&nbsp;comments</a>              </td></tr>\n",
      "      <tr class=\"spacer\" style=\"height:5px\"></tr>\n",
      "                <tr class='athing' id='26205576'>\n",
      "      <td align=\"right\" valign=\"top\" class=\"title\"><span class=\"rank\">16.</span></td>      <td valign=\"top\" class=\"votelinks\"><center><a id='up_26205576' href='vote?id=26205576&amp;how=up&amp;goto=news'><div class='votearrow' title='upvote'></div></a></center></td><td class=\"title\"><a href=\"https://www.arencambre.com/2021/02/20/website-scores-kill-our-success-waste-our-time/\" class=\"storylink\">Website scores kill our success, waste our time</a><span class=\"sitebit comhead\"> (<a href=\"from?site=arencambre.com\"><span class=\"sitestr\">arencambre.com</span></a>)</span></td></tr><tr><td colspan=\"2\"></td><td class=\"subtext\">\n",
      "        <span class=\"score\" id=\"score_26205576\">41 points</span> by <a href=\"user?id=AuthorizedCust\" class=\"hnuser\">AuthorizedCust</a> <span class=\"age\"><a href=\"item?id=26205576\">4 hours ago</a></span> <span id=\"unv_26205576\"></span> | <a href=\"hide?id=26205576&amp;goto=news\">hide</a> | <a href=\"item?id=26205576\">22&nbsp;comments</a>              </td></tr>\n",
      "      <tr class=\"spacer\" style=\"height:5px\"></tr>\n",
      "                <tr class='athing' id='26217834'>\n",
      "      <td align=\"right\" valign=\"top\" class=\"title\"><span class=\"rank\">17.</span></td>      <td valign=\"top\" class=\"votelinks\"><center><a id='up_26217834' href='vote?id=26217834&amp;how=up&amp;goto=news'><div class='votearrow' title='upvote'></div></a></center></td><td class=\"title\"><a href=\"https://faculty.ucr.edu/~eschwitz/SchwitzAbs/USAconscious.htm\" class=\"storylink\">If Materialism Is True, the United States Is Probably Conscious (2015)</a><span class=\"sitebit comhead\"> (<a href=\"from?site=ucr.edu\"><span class=\"sitestr\">ucr.edu</span></a>)</span></td></tr><tr><td colspan=\"2\"></td><td class=\"subtext\">\n",
      "        <span class=\"score\" id=\"score_26217834\">11 points</span> by <a href=\"user?id=tosh\" class=\"hnuser\">tosh</a> <span class=\"age\"><a href=\"item?id=26217834\">1 hour ago</a></span> <span id=\"unv_26217834\"></span> | <a href=\"hide?id=26217834&amp;goto=news\">hide</a> | <a href=\"item?id=26217834\">6&nbsp;comments</a>              </td></tr>\n",
      "      <tr class=\"spacer\" style=\"height:5px\"></tr>\n",
      "                <tr class='athing' id='26212975'>\n",
      "      <td align=\"right\" valign=\"top\" class=\"title\"><span class=\"rank\">18.</span></td>      <td valign=\"top\" class=\"votelinks\"><center><a id='up_26212975' href='vote?id=26212975&amp;how=up&amp;goto=news'><div class='votearrow' title='upvote'></div></a></center></td><td class=\"title\"><a href=\"https://www.bbc.com/culture/article/20210212-silent-running-the-sci-fi-that-predicted-modern-crises\" class=\"storylink\">Silent Running: The sci-fi that predicted modern crises</a><span class=\"sitebit comhead\"> (<a href=\"from?site=bbc.com\"><span class=\"sitestr\">bbc.com</span></a>)</span></td></tr><tr><td colspan=\"2\"></td><td class=\"subtext\">\n",
      "        <span class=\"score\" id=\"score_26212975\">176 points</span> by <a href=\"user?id=bobkrusty\" class=\"hnuser\">bobkrusty</a> <span class=\"age\"><a href=\"item?id=26212975\">11 hours ago</a></span> <span id=\"unv_26212975\"></span> | <a href=\"hide?id=26212975&amp;goto=news\">hide</a> | <a href=\"item?id=26212975\">40&nbsp;comments</a>              </td></tr>\n",
      "      <tr class=\"spacer\" style=\"height:5px\"></tr>\n",
      "                <tr class='athing' id='26217911'>\n",
      "      <td align=\"right\" valign=\"top\" class=\"title\"><span class=\"rank\">19.</span></td>      <td valign=\"top\" class=\"votelinks\"><center><a id='up_26217911' href='vote?id=26217911&amp;how=up&amp;goto=news'><div class='votearrow' title='upvote'></div></a></center></td><td class=\"title\"><a href=\"https://nchammas.com/writing/data-pipeline-materialized-view\" class=\"storylink\" rel=\"nofollow\">A Data Pipeline Is a Materialized View</a><span class=\"sitebit comhead\"> (<a href=\"from?site=nchammas.com\"><span class=\"sitestr\">nchammas.com</span></a>)</span></td></tr><tr><td colspan=\"2\"></td><td class=\"subtext\">\n",
      "        <span class=\"score\" id=\"score_26217911\">10 points</span> by <a href=\"user?id=nchammas\" class=\"hnuser\">nchammas</a> <span class=\"age\"><a href=\"item?id=26217911\">1 hour ago</a></span> <span id=\"unv_26217911\"></span> | <a href=\"hide?id=26217911&amp;goto=news\">hide</a> | <a href=\"item?id=26217911\">1&nbsp;comment</a>              </td></tr>\n",
      "      <tr class=\"spacer\" style=\"height:5px\"></tr>\n",
      "                <tr class='athing' id='26203475'>\n",
      "      <td align=\"right\" valign=\"top\" class=\"title\"><span class=\"rank\">20.</span></td>      <td valign=\"top\" class=\"votelinks\"><center><a id='up_26203475' href='vote?id=26203475&amp;how=up&amp;goto=news'><div class='votearrow' title='upvote'></div></a></center></td><td class=\"title\"><a href=\"https://www.atlasobscura.com/articles/what-is-a-biocrust\" class=\"storylink\" rel=\"nofollow\">Biocrusts Are an Entire World Beneath Our Feet</a><span class=\"sitebit comhead\"> (<a href=\"from?site=atlasobscura.com\"><span class=\"sitestr\">atlasobscura.com</span></a>)</span></td></tr><tr><td colspan=\"2\"></td><td class=\"subtext\">\n",
      "        <span class=\"score\" id=\"score_26203475\">4 points</span> by <a href=\"user?id=pseudolus\" class=\"hnuser\">pseudolus</a> <span class=\"age\"><a href=\"item?id=26203475\">1 hour ago</a></span> <span id=\"unv_26203475\"></span> | <a href=\"hide?id=26203475&amp;goto=news\">hide</a> | <a href=\"item?id=26203475\">discuss</a>              </td></tr>\n",
      "      <tr class=\"spacer\" style=\"height:5px\"></tr>\n",
      "                <tr class='athing' id='26212208'>\n",
      "      <td align=\"right\" valign=\"top\" class=\"title\"><span class=\"rank\">21.</span></td>      <td valign=\"top\" class=\"votelinks\"><center><a id='up_26212208' href='vote?id=26212208&amp;how=up&amp;goto=news'><div class='votearrow' title='upvote'></div></a></center></td><td class=\"title\"><a href=\"https://darknetdiaries.com/episode/6/\" class=\"storylink\">The Beirut Bank Job (2017)</a><span class=\"sitebit comhead\"> (<a href=\"from?site=darknetdiaries.com\"><span class=\"sitestr\">darknetdiaries.com</span></a>)</span></td></tr><tr><td colspan=\"2\"></td><td class=\"subtext\">\n",
      "        <span class=\"score\" id=\"score_26212208\">260 points</span> by <a href=\"user?id=mleonhard\" class=\"hnuser\">mleonhard</a> <span class=\"age\"><a href=\"item?id=26212208\">14 hours ago</a></span> <span id=\"unv_26212208\"></span> | <a href=\"hide?id=26212208&amp;goto=news\">hide</a> | <a href=\"item?id=26212208\">39&nbsp;comments</a>              </td></tr>\n",
      "      <tr class=\"spacer\" style=\"height:5px\"></tr>\n",
      "                <tr class='athing' id='26215640'>\n",
      "      <td align=\"right\" valign=\"top\" class=\"title\"><span class=\"rank\">22.</span></td>      <td valign=\"top\" class=\"votelinks\"><center><a id='up_26215640' href='vote?id=26215640&amp;how=up&amp;goto=news'><div class='votearrow' title='upvote'></div></a></center></td><td class=\"title\"><a href=\"https://chiefofstuff.substack.com/p/commenting-vs-making\" class=\"storylink\">Commenting vs. Making</a><span class=\"sitebit comhead\"> (<a href=\"from?site=chiefofstuff.substack.com\"><span class=\"sitestr\">chiefofstuff.substack.com</span></a>)</span></td></tr><tr><td colspan=\"2\"></td><td class=\"subtext\">\n",
      "        <span class=\"score\" id=\"score_26215640\">243 points</span> by <a href=\"user?id=tosh\" class=\"hnuser\">tosh</a> <span class=\"age\"><a href=\"item?id=26215640\">5 hours ago</a></span> <span id=\"unv_26215640\"></span> | <a href=\"hide?id=26215640&amp;goto=news\">hide</a> | <a href=\"item?id=26215640\">82&nbsp;comments</a>              </td></tr>\n",
      "      <tr class=\"spacer\" style=\"height:5px\"></tr>\n",
      "                <tr class='athing' id='26192201'>\n",
      "      <td align=\"right\" valign=\"top\" class=\"title\"><span class=\"rank\">23.</span></td>      <td valign=\"top\" class=\"votelinks\"><center><a id='up_26192201' href='vote?id=26192201&amp;how=up&amp;goto=news'><div class='votearrow' title='upvote'></div></a></center></td><td class=\"title\"><a href=\"https://www.tomshardware.com/news/nvidia-announces-cryptocurrency-mining-processor-gpu-line\" class=\"storylink\">Nvidia Limits RTX 3060 Hash Rate</a><span class=\"sitebit comhead\"> (<a href=\"from?site=tomshardware.com\"><span class=\"sitestr\">tomshardware.com</span></a>)</span></td></tr><tr><td colspan=\"2\"></td><td class=\"subtext\">\n",
      "        <span class=\"score\" id=\"score_26192201\">256 points</span> by <a href=\"user?id=stambros\" class=\"hnuser\">stambros</a> <span class=\"age\"><a href=\"item?id=26192201\">14 hours ago</a></span> <span id=\"unv_26192201\"></span> | <a href=\"hide?id=26192201&amp;goto=news\">hide</a> | <a href=\"item?id=26192201\">434&nbsp;comments</a>              </td></tr>\n",
      "      <tr class=\"spacer\" style=\"height:5px\"></tr>\n",
      "                <tr class='athing' id='26211060'>\n",
      "      <td align=\"right\" valign=\"top\" class=\"title\"><span class=\"rank\">24.</span></td>      <td valign=\"top\" class=\"votelinks\"><center><a id='up_26211060' href='vote?id=26211060&amp;how=up&amp;goto=news'><div class='votearrow' title='upvote'></div></a></center></td><td class=\"title\"><a href=\"https://computer.rip/2021-02-20%20555%20500%20710%20etc.html\" class=\"storylink\">“555” and related telephone prefixes</a><span class=\"sitebit comhead\"> (<a href=\"from?site=computer.rip\"><span class=\"sitestr\">computer.rip</span></a>)</span></td></tr><tr><td colspan=\"2\"></td><td class=\"subtext\">\n",
      "        <span class=\"score\" id=\"score_26211060\">22 points</span> by <a href=\"user?id=miles\" class=\"hnuser\">miles</a> <span class=\"age\"><a href=\"item?id=26211060\">3 hours ago</a></span> <span id=\"unv_26211060\"></span> | <a href=\"hide?id=26211060&amp;goto=news\">hide</a> | <a href=\"item?id=26211060\">5&nbsp;comments</a>              </td></tr>\n",
      "      <tr class=\"spacer\" style=\"height:5px\"></tr>\n",
      "                <tr class='athing' id='26213693'>\n",
      "      <td align=\"right\" valign=\"top\" class=\"title\"><span class=\"rank\">25.</span></td>      <td valign=\"top\" class=\"votelinks\"><center><a id='up_26213693' href='vote?id=26213693&amp;how=up&amp;goto=news'><div class='votearrow' title='upvote'></div></a></center></td><td class=\"title\"><a href=\"https://www.politico.eu/article/this-is-what-happens-when-bitcoin-miners-take-over-your-town/\" class=\"storylink\">When Bitcoin miners take over a town (2018)</a><span class=\"sitebit comhead\"> (<a href=\"from?site=politico.eu\"><span class=\"sitestr\">politico.eu</span></a>)</span></td></tr><tr><td colspan=\"2\"></td><td class=\"subtext\">\n",
      "        <span class=\"score\" id=\"score_26213693\">150 points</span> by <a href=\"user?id=edward\" class=\"hnuser\">edward</a> <span class=\"age\"><a href=\"item?id=26213693\">9 hours ago</a></span> <span id=\"unv_26213693\"></span> | <a href=\"hide?id=26213693&amp;goto=news\">hide</a> | <a href=\"item?id=26213693\">350&nbsp;comments</a>              </td></tr>\n",
      "      <tr class=\"spacer\" style=\"height:5px\"></tr>\n",
      "                <tr class='athing' id='26210774'>\n",
      "      <td align=\"right\" valign=\"top\" class=\"title\"><span class=\"rank\">26.</span></td>      <td valign=\"top\" class=\"votelinks\"><center><a id='up_26210774' href='vote?id=26210774&amp;how=up&amp;goto=news'><div class='votearrow' title='upvote'></div></a></center></td><td class=\"title\"><a href=\"https://www.atlasobscura.com/articles/recreate-the-menu-of-pompeii-ancient-pub\" class=\"storylink\">Reconstructing the Menu of a Pub in Ancient Pompeii</a><span class=\"sitebit comhead\"> (<a href=\"from?site=atlasobscura.com\"><span class=\"sitestr\">atlasobscura.com</span></a>)</span></td></tr><tr><td colspan=\"2\"></td><td class=\"subtext\">\n",
      "        <span class=\"score\" id=\"score_26210774\">97 points</span> by <a href=\"user?id=diodorus\" class=\"hnuser\">diodorus</a> <span class=\"age\"><a href=\"item?id=26210774\">9 hours ago</a></span> <span id=\"unv_26210774\"></span> | <a href=\"hide?id=26210774&amp;goto=news\">hide</a> | <a href=\"item?id=26210774\">9&nbsp;comments</a>              </td></tr>\n",
      "      <tr class=\"spacer\" style=\"height:5px\"></tr>\n",
      "                <tr class='athing' id='26211540'>\n",
      "      <td align=\"right\" valign=\"top\" class=\"title\"><span class=\"rank\">27.</span></td>      <td valign=\"top\" class=\"votelinks\"><center><a id='up_26211540' href='vote?id=26211540&amp;how=up&amp;goto=news'><div class='votearrow' title='upvote'></div></a></center></td><td class=\"title\"><a href=\"https://github.com/Snowtrack/SnowFS\" class=\"storylink\">SnowFS – a fast, scalable version control file storage for graphic files</a><span class=\"sitebit comhead\"> (<a href=\"from?site=github.com/snowtrack\"><span class=\"sitestr\">github.com/snowtrack</span></a>)</span></td></tr><tr><td colspan=\"2\"></td><td class=\"subtext\">\n",
      "        <span class=\"score\" id=\"score_26211540\">58 points</span> by <a href=\"user?id=karateka\" class=\"hnuser\">karateka</a> <span class=\"age\"><a href=\"item?id=26211540\">8 hours ago</a></span> <span id=\"unv_26211540\"></span> | <a href=\"hide?id=26211540&amp;goto=news\">hide</a> | <a href=\"item?id=26211540\">14&nbsp;comments</a>              </td></tr>\n",
      "      <tr class=\"spacer\" style=\"height:5px\"></tr>\n",
      "                <tr class='athing' id='26217013'>\n",
      "      <td align=\"right\" valign=\"top\" class=\"title\"><span class=\"rank\">28.</span></td>      <td valign=\"top\" class=\"votelinks\"><center><a id='up_26217013' href='vote?id=26217013&amp;how=up&amp;goto=news'><div class='votearrow' title='upvote'></div></a></center></td><td class=\"title\"><a href=\"https://blog.oisinaylward.me/blog/crystal/\" class=\"storylink\">An Introduction to Crystal</a><span class=\"sitebit comhead\"> (<a href=\"from?site=oisinaylward.me\"><span class=\"sitestr\">oisinaylward.me</span></a>)</span></td></tr><tr><td colspan=\"2\"></td><td class=\"subtext\">\n",
      "        <span class=\"score\" id=\"score_26217013\">53 points</span> by <a href=\"user?id=thejokersthief\" class=\"hnuser\">thejokersthief</a> <span class=\"age\"><a href=\"item?id=26217013\">3 hours ago</a></span> <span id=\"unv_26217013\"></span> | <a href=\"hide?id=26217013&amp;goto=news\">hide</a> | <a href=\"item?id=26217013\">20&nbsp;comments</a>              </td></tr>\n",
      "      <tr class=\"spacer\" style=\"height:5px\"></tr>\n",
      "                <tr class='athing' id='26216238'>\n",
      "      <td align=\"right\" valign=\"top\" class=\"title\"><span class=\"rank\">29.</span></td>      <td valign=\"top\" class=\"votelinks\"><center><a id='up_26216238' href='vote?id=26216238&amp;how=up&amp;goto=news'><div class='votearrow' title='upvote'></div></a></center></td><td class=\"title\"><a href=\"https://www.gwern.net/Complexity-vs-AI\" class=\"storylink\">Complexity No Bar to AI</a><span class=\"sitebit comhead\"> (<a href=\"from?site=gwern.net\"><span class=\"sitestr\">gwern.net</span></a>)</span></td></tr><tr><td colspan=\"2\"></td><td class=\"subtext\">\n",
      "        <span class=\"score\" id=\"score_26216238\">102 points</span> by <a href=\"user?id=tmfi\" class=\"hnuser\">tmfi</a> <span class=\"age\"><a href=\"item?id=26216238\">3 hours ago</a></span> <span id=\"unv_26216238\"></span> | <a href=\"hide?id=26216238&amp;goto=news\">hide</a> | <a href=\"item?id=26216238\">76&nbsp;comments</a>              </td></tr>\n",
      "      <tr class=\"spacer\" style=\"height:5px\"></tr>\n",
      "                <tr class='athing' id='26213554'>\n",
      "      <td align=\"right\" valign=\"top\" class=\"title\"><span class=\"rank\">30.</span></td>      <td valign=\"top\" class=\"votelinks\"><center><a id='up_26213554' href='vote?id=26213554&amp;how=up&amp;goto=news'><div class='votearrow' title='upvote'></div></a></center></td><td class=\"title\"><a href=\"https://github.com/qeeqbox/social-analyzer\" class=\"storylink\">Find a person's profile across 350 social media sites</a><span class=\"sitebit comhead\"> (<a href=\"from?site=github.com/qeeqbox\"><span class=\"sitestr\">github.com/qeeqbox</span></a>)</span></td></tr><tr><td colspan=\"2\"></td><td class=\"subtext\">\n",
      "        <span class=\"score\" id=\"score_26213554\">353 points</span> by <a href=\"user?id=hunvreus\" class=\"hnuser\">hunvreus</a> <span class=\"age\"><a href=\"item?id=26213554\">9 hours ago</a></span> <span id=\"unv_26213554\"></span> | <a href=\"hide?id=26213554&amp;goto=news\">hide</a> | <a href=\"item?id=26213554\">131&nbsp;comments</a>              </td></tr>\n",
      "      <tr class=\"spacer\" style=\"height:5px\"></tr>\n",
      "            <tr class=\"morespace\" style=\"height:10px\"></tr><tr><td colspan=\"2\"></td><td class=\"title\"><a href=\"news?p=2\" class=\"morelink\" rel=\"next\">More</a></td></tr>\n",
      "  </table>\n",
      "</td></tr>\n",
      "<tr><td><img src=\"s.gif\" height=\"10\" width=\"0\"><table width=\"100%\" cellspacing=\"0\" cellpadding=\"1\"><tr><td bgcolor=\"#ff6600\"></td></tr></table><br><center><span class=\"yclinks\"><a href=\"newsguidelines.html\">Guidelines</a>\n",
      "        | <a href=\"newsfaq.html\">FAQ</a>\n",
      "        | <a href=\"lists\">Lists</a>\n",
      "        | <a href=\"https://github.com/HackerNews/API\">API</a>\n",
      "        | <a href=\"security.html\">Security</a>\n",
      "        | <a href=\"http://www.ycombinator.com/legal/\">Legal</a>\n",
      "        | <a href=\"http://www.ycombinator.com/apply/\">Apply to YC</a>\n",
      "        | <a href=\"mailto:hn@ycombinator.com\">Contact</a></span><br><br><form method=\"get\" action=\"//hn.algolia.com/\">Search:\n",
      "          <input type=\"text\" name=\"q\" value=\"\" size=\"17\" autocorrect=\"off\" spellcheck=\"false\" autocapitalize=\"off\" autocomplete=\"false\"></form>\n",
      "            </center></td></tr>\n",
      "      </table></center></body><script type='text/javascript' src='hn.js?duij9W8mgXa9RkdF5Ppb'></script></html>\n",
      "\n"
     ]
    }
   ],
   "source": [
    "import requests\n",
    "\n",
    "# Fetch a web page\n",
    "r = requests.get(\"https://news.ycombinator.com\")\n",
    "print(r.text)"
   ]
  },
  {
   "cell_type": "code",
   "execution_count": 6,
   "metadata": {},
   "outputs": [
    {
     "name": "stdout",
     "output_type": "stream",
     "text": [
      "\n",
      "        \n",
      "          \n",
      "        Hacker News\n",
      "        \n",
      "                  Hacker News\n",
      "              new | past | comments | ask | show | jobs | submit            \n",
      "                              login\n",
      "                          \n",
      "              \n",
      "\n",
      "              \n",
      "      1.      Apparent hackers behind Kia ransomware attack demand millions in Bitcoin (thedrive.com)\n",
      "        137 points by ourmandave 2 hours ago  | hide | 145&nbsp;comments              \n",
      "      \n",
      "                \n",
      "      2.      I paid for Spotify playlist placements so you don’t have to (najinsan.wordpress.com)\n",
      "        35 points by pgl 2 hours ago  | hide | 6&nbsp;comments              \n",
      "      \n",
      "                \n",
      "      3.      Mistakes I've Made as an Engineering Manager (css-tricks.com)\n",
      "        182 points by sebg 5 hours ago  | hide | 72&nbsp;comments              \n",
      "      \n",
      "                \n",
      "      4.      Cross-Database Queries in SQLite (simonwillison.net)\n",
      "        26 points by chmaynard 1 hour ago  | hide | 15&nbsp;comments              \n",
      "      \n",
      "                \n",
      "      5.      The modern packager’s security nightmare (gentoo.org)\n",
      "        184 points by summm 5 hours ago  | hide | 130&nbsp;comments              \n",
      "      \n",
      "                \n",
      "      6.      Please do not put IP addresses into DNS MX records (hboeck.de)\n",
      "        138 points by hannob 6 hours ago  | hide | 124&nbsp;comments              \n",
      "      \n",
      "                \n",
      "      7.      Feedback Welcome: I am developing an e-paper calendar as a consumer product (invisible-computers.com)\n",
      "        62 points by konschubert 4 hours ago  | hide | 80&nbsp;comments              \n",
      "      \n",
      "                \n",
      "      8.      Activists who embrace nuclear power (newyorker.com)\n",
      "        169 points by pseudolus 8 hours ago  | hide | 338&nbsp;comments              \n",
      "      \n",
      "                \n",
      "      9.      When Engineers Were Humanists (nybooks.com)\n",
      "        17 points by mitchbob 1 hour ago  | hide | discuss              \n",
      "      \n",
      "                \n",
      "      10.      Formalising Mathematics: An Introduction (xenaproject.wordpress.com)\n",
      "        150 points by panic 7 hours ago  | hide | 79&nbsp;comments              \n",
      "      \n",
      "                \n",
      "      11.      Project Xanadu (wikipedia.org)\n",
      "        64 points by alokrai 4 hours ago  | hide | 38&nbsp;comments              \n",
      "      \n",
      "                \n",
      "      12.      Replit (YC W18) is hiring to make computing more accessible (repl.it)\n",
      "        2 hours ago | hide      \n",
      "      \n",
      "                \n",
      "      13.      ‘It just blew fire’: Kauai woman watched as an engine fell apart on flight 328 (hawaiinewsnow.com)\n",
      "        35 points by lightlyused 4 hours ago  | hide | 36&nbsp;comments              \n",
      "      \n",
      "                \n",
      "      14.      Show HN: Ad Network for Sideprojects (tinyads.io)\n",
      "        102 points by ezzato 6 hours ago  | hide | 39&nbsp;comments              \n",
      "      \n",
      "                \n",
      "      15.      Diplomacy: The Board Game of the Alpha Nerds (2014) (grantland.com)\n",
      "        86 points by ollieglass 5 hours ago  | hide | 47&nbsp;comments              \n",
      "      \n",
      "                \n",
      "      16.      Website scores kill our success, waste our time (arencambre.com)\n",
      "        41 points by AuthorizedCust 4 hours ago  | hide | 22&nbsp;comments              \n",
      "      \n",
      "                \n",
      "      17.      If Materialism Is True, the United States Is Probably Conscious (2015) (ucr.edu)\n",
      "        11 points by tosh 1 hour ago  | hide | 6&nbsp;comments              \n",
      "      \n",
      "                \n",
      "      18.      Silent Running: The sci-fi that predicted modern crises (bbc.com)\n",
      "        176 points by bobkrusty 11 hours ago  | hide | 40&nbsp;comments              \n",
      "      \n",
      "                \n",
      "      19.      A Data Pipeline Is a Materialized View (nchammas.com)\n",
      "        10 points by nchammas 1 hour ago  | hide | 1&nbsp;comment              \n",
      "      \n",
      "                \n",
      "      20.      Biocrusts Are an Entire World Beneath Our Feet (atlasobscura.com)\n",
      "        4 points by pseudolus 1 hour ago  | hide | discuss              \n",
      "      \n",
      "                \n",
      "      21.      The Beirut Bank Job (2017) (darknetdiaries.com)\n",
      "        260 points by mleonhard 14 hours ago  | hide | 39&nbsp;comments              \n",
      "      \n",
      "                \n",
      "      22.      Commenting vs. Making (chiefofstuff.substack.com)\n",
      "        243 points by tosh 5 hours ago  | hide | 82&nbsp;comments              \n",
      "      \n",
      "                \n",
      "      23.      Nvidia Limits RTX 3060 Hash Rate (tomshardware.com)\n",
      "        256 points by stambros 14 hours ago  | hide | 434&nbsp;comments              \n",
      "      \n",
      "                \n",
      "      24.      “555” and related telephone prefixes (computer.rip)\n",
      "        22 points by miles 3 hours ago  | hide | 5&nbsp;comments              \n",
      "      \n",
      "                \n",
      "      25.      When Bitcoin miners take over a town (2018) (politico.eu)\n",
      "        150 points by edward 9 hours ago  | hide | 350&nbsp;comments              \n",
      "      \n",
      "                \n",
      "      26.      Reconstructing the Menu of a Pub in Ancient Pompeii (atlasobscura.com)\n",
      "        97 points by diodorus 9 hours ago  | hide | 9&nbsp;comments              \n",
      "      \n",
      "                \n",
      "      27.      SnowFS – a fast, scalable version control file storage for graphic files (github.com/snowtrack)\n",
      "        58 points by karateka 8 hours ago  | hide | 14&nbsp;comments              \n",
      "      \n",
      "                \n",
      "      28.      An Introduction to Crystal (oisinaylward.me)\n",
      "        53 points by thejokersthief 3 hours ago  | hide | 20&nbsp;comments              \n",
      "      \n",
      "                \n",
      "      29.      Complexity No Bar to AI (gwern.net)\n",
      "        102 points by tmfi 3 hours ago  | hide | 76&nbsp;comments              \n",
      "      \n",
      "                \n",
      "      30.      Find a person's profile across 350 social media sites (github.com/qeeqbox)\n",
      "        353 points by hunvreus 9 hours ago  | hide | 131&nbsp;comments              \n",
      "      \n",
      "            More\n",
      "  \n",
      "\n",
      "Guidelines\n",
      "        | FAQ\n",
      "        | Lists\n",
      "        | API\n",
      "        | Security\n",
      "        | Legal\n",
      "        | Apply to YC\n",
      "        | ContactSearch:\n",
      "          \n",
      "            \n",
      "      \n",
      "\n"
     ]
    }
   ],
   "source": [
    "import re\n",
    "\n",
    "# Remove HTML tags using RegEx\n",
    "pattern = re.compile(r'<.*?>')  # tags look like <...>\n",
    "print(pattern.sub('', r.text))  # replace them with blank"
   ]
  },
  {
   "cell_type": "code",
   "execution_count": 7,
   "metadata": {},
   "outputs": [
    {
     "name": "stdout",
     "output_type": "stream",
     "text": [
      "\n",
      "        \n",
      "          \n",
      "        Hacker News\n",
      "        \n",
      "                  Hacker News\n",
      "              new | past | comments | ask | show | jobs | submit            \n",
      "                              login\n",
      "                          \n",
      "              \n",
      "\n",
      "              \n",
      "      1.      Apparent hackers behind Kia ransomware attack demand millions in Bitcoin (thedrive.com)\n",
      "        137 points by ourmandave 2 hours ago  | hide | 145 comments              \n",
      "      \n",
      "                \n",
      "      2.      I paid for Spotify playlist placements so you don’t have to (najinsan.wordpress.com)\n",
      "        35 points by pgl 2 hours ago  | hide | 6 comments              \n",
      "      \n",
      "                \n",
      "      3.      Mistakes I've Made as an Engineering Manager (css-tricks.com)\n",
      "        182 points by sebg 5 hours ago  | hide | 72 comments              \n",
      "      \n",
      "                \n",
      "      4.      Cross-Database Queries in SQLite (simonwillison.net)\n",
      "        26 points by chmaynard 1 hour ago  | hide | 15 comments              \n",
      "      \n",
      "                \n",
      "      5.      The modern packager’s security nightmare (gentoo.org)\n",
      "        184 points by summm 5 hours ago  | hide | 130 comments              \n",
      "      \n",
      "                \n",
      "      6.      Please do not put IP addresses into DNS MX records (hboeck.de)\n",
      "        138 points by hannob 6 hours ago  | hide | 124 comments              \n",
      "      \n",
      "                \n",
      "      7.      Feedback Welcome: I am developing an e-paper calendar as a consumer product (invisible-computers.com)\n",
      "        62 points by konschubert 4 hours ago  | hide | 80 comments              \n",
      "      \n",
      "                \n",
      "      8.      Activists who embrace nuclear power (newyorker.com)\n",
      "        169 points by pseudolus 8 hours ago  | hide | 338 comments              \n",
      "      \n",
      "                \n",
      "      9.      When Engineers Were Humanists (nybooks.com)\n",
      "        17 points by mitchbob 1 hour ago  | hide | discuss              \n",
      "      \n",
      "                \n",
      "      10.      Formalising Mathematics: An Introduction (xenaproject.wordpress.com)\n",
      "        150 points by panic 7 hours ago  | hide | 79 comments              \n",
      "      \n",
      "                \n",
      "      11.      Project Xanadu (wikipedia.org)\n",
      "        64 points by alokrai 4 hours ago  | hide | 38 comments              \n",
      "      \n",
      "                \n",
      "      12.      Replit (YC W18) is hiring to make computing more accessible (repl.it)\n",
      "        2 hours ago | hide      \n",
      "      \n",
      "                \n",
      "      13.      ‘It just blew fire’: Kauai woman watched as an engine fell apart on flight 328 (hawaiinewsnow.com)\n",
      "        35 points by lightlyused 4 hours ago  | hide | 36 comments              \n",
      "      \n",
      "                \n",
      "      14.      Show HN: Ad Network for Sideprojects (tinyads.io)\n",
      "        102 points by ezzato 6 hours ago  | hide | 39 comments              \n",
      "      \n",
      "                \n",
      "      15.      Diplomacy: The Board Game of the Alpha Nerds (2014) (grantland.com)\n",
      "        86 points by ollieglass 5 hours ago  | hide | 47 comments              \n",
      "      \n",
      "                \n",
      "      16.      Website scores kill our success, waste our time (arencambre.com)\n",
      "        41 points by AuthorizedCust 4 hours ago  | hide | 22 comments              \n",
      "      \n",
      "                \n",
      "      17.      If Materialism Is True, the United States Is Probably Conscious (2015) (ucr.edu)\n",
      "        11 points by tosh 1 hour ago  | hide | 6 comments              \n",
      "      \n",
      "                \n",
      "      18.      Silent Running: The sci-fi that predicted modern crises (bbc.com)\n",
      "        176 points by bobkrusty 11 hours ago  | hide | 40 comments              \n",
      "      \n",
      "                \n",
      "      19.      A Data Pipeline Is a Materialized View (nchammas.com)\n",
      "        10 points by nchammas 1 hour ago  | hide | 1 comment              \n",
      "      \n",
      "                \n",
      "      20.      Biocrusts Are an Entire World Beneath Our Feet (atlasobscura.com)\n",
      "        4 points by pseudolus 1 hour ago  | hide | discuss              \n",
      "      \n",
      "                \n",
      "      21.      The Beirut Bank Job (2017) (darknetdiaries.com)\n",
      "        260 points by mleonhard 14 hours ago  | hide | 39 comments              \n",
      "      \n",
      "                \n",
      "      22.      Commenting vs. Making (chiefofstuff.substack.com)\n",
      "        243 points by tosh 5 hours ago  | hide | 82 comments              \n",
      "      \n",
      "                \n",
      "      23.      Nvidia Limits RTX 3060 Hash Rate (tomshardware.com)\n",
      "        256 points by stambros 14 hours ago  | hide | 434 comments              \n",
      "      \n",
      "                \n",
      "      24.      “555” and related telephone prefixes (computer.rip)\n",
      "        22 points by miles 3 hours ago  | hide | 5 comments              \n",
      "      \n",
      "                \n",
      "      25.      When Bitcoin miners take over a town (2018) (politico.eu)\n",
      "        150 points by edward 9 hours ago  | hide | 350 comments              \n",
      "      \n",
      "                \n",
      "      26.      Reconstructing the Menu of a Pub in Ancient Pompeii (atlasobscura.com)\n",
      "        97 points by diodorus 9 hours ago  | hide | 9 comments              \n",
      "      \n",
      "                \n",
      "      27.      SnowFS – a fast, scalable version control file storage for graphic files (github.com/snowtrack)\n",
      "        58 points by karateka 8 hours ago  | hide | 14 comments              \n",
      "      \n",
      "                \n",
      "      28.      An Introduction to Crystal (oisinaylward.me)\n",
      "        53 points by thejokersthief 3 hours ago  | hide | 20 comments              \n",
      "      \n",
      "                \n",
      "      29.      Complexity No Bar to AI (gwern.net)\n",
      "        102 points by tmfi 3 hours ago  | hide | 76 comments              \n",
      "      \n",
      "                \n",
      "      30.      Find a person's profile across 350 social media sites (github.com/qeeqbox)\n",
      "        353 points by hunvreus 9 hours ago  | hide | 131 comments              \n",
      "      \n",
      "            More\n",
      "  \n",
      "\n",
      "Guidelines\n",
      "        | FAQ\n",
      "        | Lists\n",
      "        | API\n",
      "        | Security\n",
      "        | Legal\n",
      "        | Apply to YC\n",
      "        | ContactSearch:\n",
      "          \n",
      "            \n",
      "      \n",
      "\n"
     ]
    }
   ],
   "source": [
    "from bs4 import BeautifulSoup\n",
    "\n",
    "# Remove HTML tags using Beautiful Soup library\n",
    "soup = BeautifulSoup(r.text, \"html5lib\")\n",
    "print(soup.get_text())"
   ]
  },
  {
   "cell_type": "code",
   "execution_count": 8,
   "metadata": {
    "scrolled": true
   },
   "outputs": [
    {
     "data": {
      "text/plain": [
       "<tr class=\"athing\" id=\"26217564\">\n",
       "      <td align=\"right\" class=\"title\" valign=\"top\"><span class=\"rank\">1.</span></td>      <td class=\"votelinks\" valign=\"top\"><center><a href=\"vote?id=26217564&amp;how=up&amp;goto=news\" id=\"up_26217564\"><div class=\"votearrow\" title=\"upvote\"></div></a></center></td><td class=\"title\"><a class=\"storylink\" href=\"https://www.thedrive.com/tech/39309/the-apparent-hackers-behind-kias-ransomware-attack-are-demanding-millions-in-bitcoin\">Apparent hackers behind Kia ransomware attack demand millions in Bitcoin</a><span class=\"sitebit comhead\"> (<a href=\"from?site=thedrive.com\"><span class=\"sitestr\">thedrive.com</span></a>)</span></td></tr>"
      ]
     },
     "execution_count": 8,
     "metadata": {},
     "output_type": "execute_result"
    }
   ],
   "source": [
    "# Find all articles\n",
    "summaries = soup.find_all(\"tr\", class_=\"athing\")\n",
    "summaries[0]"
   ]
  },
  {
   "cell_type": "code",
   "execution_count": 9,
   "metadata": {},
   "outputs": [
    {
     "data": {
      "text/plain": [
       "'Apparent hackers behind Kia ransomware attack demand millions in Bitcoin'"
      ]
     },
     "execution_count": 9,
     "metadata": {},
     "output_type": "execute_result"
    }
   ],
   "source": [
    "# Extract title\n",
    "summaries[0].find(\"a\", class_=\"storylink\").get_text().strip()"
   ]
  },
  {
   "cell_type": "code",
   "execution_count": 10,
   "metadata": {},
   "outputs": [
    {
     "name": "stdout",
     "output_type": "stream",
     "text": [
      "30 Article summaries found. Sample:\n",
      "Apparent hackers behind Kia ransomware attack demand millions in Bitcoin\n"
     ]
    }
   ],
   "source": [
    "# Find all articles, extract titles\n",
    "articles = []\n",
    "summaries = soup.find_all(\"tr\", class_=\"athing\")\n",
    "for summary in summaries:\n",
    "    title = summary.find(\"a\", class_=\"storylink\").get_text().strip()\n",
    "    articles.append((title))\n",
    "\n",
    "print(len(articles), \"Article summaries found. Sample:\")\n",
    "print(articles[0])"
   ]
  },
  {
   "cell_type": "markdown",
   "metadata": {
    "collapsed": true
   },
   "source": [
    "## Normalization"
   ]
  },
  {
   "cell_type": "markdown",
   "metadata": {},
   "source": [
    "### Case Normalization"
   ]
  },
  {
   "cell_type": "code",
   "execution_count": 11,
   "metadata": {},
   "outputs": [
    {
     "name": "stdout",
     "output_type": "stream",
     "text": [
      "The first time you see The Second Renaissance it may look boring. Look at it at least twice and definitely watch part 2. It will change your view of the matrix. Are the human people the ones who started the war ? Is AI a bad thing ?\n"
     ]
    }
   ],
   "source": [
    "# Sample text\n",
    "text = \"The first time you see The Second Renaissance it may look boring. Look at it at least twice and definitely watch part 2. It will change your view of the matrix. Are the human people the ones who started the war ? Is AI a bad thing ?\"\n",
    "print(text)"
   ]
  },
  {
   "cell_type": "code",
   "execution_count": 12,
   "metadata": {},
   "outputs": [
    {
     "name": "stdout",
     "output_type": "stream",
     "text": [
      "the first time you see the second renaissance it may look boring. look at it at least twice and definitely watch part 2. it will change your view of the matrix. are the human people the ones who started the war ? is ai a bad thing ?\n"
     ]
    }
   ],
   "source": [
    "# Convert to lowercase\n",
    "text = text.lower() \n",
    "print(text)"
   ]
  },
  {
   "cell_type": "markdown",
   "metadata": {},
   "source": [
    "### Punctuation Removal"
   ]
  },
  {
   "cell_type": "code",
   "execution_count": 13,
   "metadata": {},
   "outputs": [
    {
     "name": "stdout",
     "output_type": "stream",
     "text": [
      "the first time you see the second renaissance it may look boring  look at it at least twice and definitely watch part 2  it will change your view of the matrix  are the human people the ones who started the war   is ai a bad thing  \n"
     ]
    }
   ],
   "source": [
    "import re\n",
    "\n",
    "# Remove punctuation characters\n",
    "text = re.sub(r\"[^a-zA-Z0-9]\", \" \", text) \n",
    "print(text)"
   ]
  },
  {
   "cell_type": "markdown",
   "metadata": {},
   "source": [
    "## Tokenization\n",
    "- for NLP, tokenization is the splitting of sentences into sequence of words, or paragraphs into sentences"
   ]
  },
  {
   "cell_type": "code",
   "execution_count": 14,
   "metadata": {},
   "outputs": [
    {
     "name": "stdout",
     "output_type": "stream",
     "text": [
      "['the', 'first', 'time', 'you', 'see', 'the', 'second', 'renaissance', 'it', 'may', 'look', 'boring', 'look', 'at', 'it', 'at', 'least', 'twice', 'and', 'definitely', 'watch', 'part', '2', 'it', 'will', 'change', 'your', 'view', 'of', 'the', 'matrix', 'are', 'the', 'human', 'people', 'the', 'ones', 'who', 'started', 'the', 'war', 'is', 'ai', 'a', 'bad', 'thing']\n"
     ]
    }
   ],
   "source": [
    "# Split text into tokens (words)\n",
    "words = text.split()\n",
    "print(words)"
   ]
  },
  {
   "cell_type": "markdown",
   "metadata": {},
   "source": [
    "### NLTK: Natural Language ToolKit\n",
    "- library of text processing tools including from plain text to twitter parsers"
   ]
  },
  {
   "cell_type": "code",
   "execution_count": 15,
   "metadata": {},
   "outputs": [],
   "source": [
    "import os\n",
    "import nltk\n",
    "nltk.data.path.append(os.path.join(os.getcwd(), \"nltk_data\"))"
   ]
  },
  {
   "cell_type": "code",
   "execution_count": 16,
   "metadata": {},
   "outputs": [
    {
     "name": "stdout",
     "output_type": "stream",
     "text": [
      "Dr. Smith graduated from the University of Washington. He later started an analytics firm called Lux, which catered to enterprise customers.\n"
     ]
    }
   ],
   "source": [
    "# Another sample text\n",
    "text = \"Dr. Smith graduated from the University of Washington. He later started an analytics firm called Lux, which catered to enterprise customers.\"\n",
    "print(text)"
   ]
  },
  {
   "cell_type": "code",
   "execution_count": 18,
   "metadata": {},
   "outputs": [
    {
     "name": "stdout",
     "output_type": "stream",
     "text": [
      "['Dr.', 'Smith', 'graduated', 'from', 'the', 'University', 'of', 'Washington', '.', 'He', 'later', 'started', 'an', 'analytics', 'firm', 'called', 'Lux', ',', 'which', 'catered', 'to', 'enterprise', 'customers', '.']\n"
     ]
    }
   ],
   "source": [
    "from nltk.tokenize import word_tokenize\n",
    "\n",
    "# Split text into words using NLTK (notice that NLTK correctly associated period with Dr., but is stand-alone\n",
    "#  punctuation in other cases)\n",
    "words = word_tokenize(text)\n",
    "print(words)"
   ]
  },
  {
   "cell_type": "code",
   "execution_count": 19,
   "metadata": {},
   "outputs": [
    {
     "name": "stdout",
     "output_type": "stream",
     "text": [
      "['Dr. Smith graduated from the University of Washington.', 'He later started an analytics firm called Lux, which catered to enterprise customers.']\n"
     ]
    }
   ],
   "source": [
    "from nltk.tokenize import sent_tokenize\n",
    "\n",
    "# Split text into sentences\n",
    "sentences = sent_tokenize(text)\n",
    "print(sentences)"
   ]
  },
  {
   "cell_type": "code",
   "execution_count": 20,
   "metadata": {},
   "outputs": [
    {
     "name": "stdout",
     "output_type": "stream",
     "text": [
      "['i', 'me', 'my', 'myself', 'we', 'our', 'ours', 'ourselves', 'you', \"you're\", \"you've\", \"you'll\", \"you'd\", 'your', 'yours', 'yourself', 'yourselves', 'he', 'him', 'his', 'himself', 'she', \"she's\", 'her', 'hers', 'herself', 'it', \"it's\", 'its', 'itself', 'they', 'them', 'their', 'theirs', 'themselves', 'what', 'which', 'who', 'whom', 'this', 'that', \"that'll\", 'these', 'those', 'am', 'is', 'are', 'was', 'were', 'be', 'been', 'being', 'have', 'has', 'had', 'having', 'do', 'does', 'did', 'doing', 'a', 'an', 'the', 'and', 'but', 'if', 'or', 'because', 'as', 'until', 'while', 'of', 'at', 'by', 'for', 'with', 'about', 'against', 'between', 'into', 'through', 'during', 'before', 'after', 'above', 'below', 'to', 'from', 'up', 'down', 'in', 'out', 'on', 'off', 'over', 'under', 'again', 'further', 'then', 'once', 'here', 'there', 'when', 'where', 'why', 'how', 'all', 'any', 'both', 'each', 'few', 'more', 'most', 'other', 'some', 'such', 'no', 'nor', 'not', 'only', 'own', 'same', 'so', 'than', 'too', 'very', 's', 't', 'can', 'will', 'just', 'don', \"don't\", 'should', \"should've\", 'now', 'd', 'll', 'm', 'o', 're', 've', 'y', 'ain', 'aren', \"aren't\", 'couldn', \"couldn't\", 'didn', \"didn't\", 'doesn', \"doesn't\", 'hadn', \"hadn't\", 'hasn', \"hasn't\", 'haven', \"haven't\", 'isn', \"isn't\", 'ma', 'mightn', \"mightn't\", 'mustn', \"mustn't\", 'needn', \"needn't\", 'shan', \"shan't\", 'shouldn', \"shouldn't\", 'wasn', \"wasn't\", 'weren', \"weren't\", 'won', \"won't\", 'wouldn', \"wouldn't\"]\n"
     ]
    }
   ],
   "source": [
    "# List stop words (common words that typically don't add meaning to a sentence)\n",
    "from nltk.corpus import stopwords\n",
    "print(stopwords.words(\"english\"))"
   ]
  },
  {
   "cell_type": "code",
   "execution_count": 21,
   "metadata": {},
   "outputs": [
    {
     "name": "stdout",
     "output_type": "stream",
     "text": [
      "['the', 'first', 'time', 'you', 'see', 'the', 'second', 'renaissance', 'it', 'may', 'look', 'boring', 'look', 'at', 'it', 'at', 'least', 'twice', 'and', 'definitely', 'watch', 'part', '2', 'it', 'will', 'change', 'your', 'view', 'of', 'the', 'matrix', 'are', 'the', 'human', 'people', 'the', 'ones', 'who', 'started', 'the', 'war', 'is', 'ai', 'a', 'bad', 'thing']\n"
     ]
    }
   ],
   "source": [
    "# Reset text\n",
    "text = \"The first time you see The Second Renaissance it may look boring. Look at it at least twice and definitely watch part 2. It will change your view of the matrix. Are the human people the ones who started the war ? Is AI a bad thing ?\"\n",
    "\n",
    "# Normalize it\n",
    "text = re.sub(r\"[^a-zA-Z0-9]\", \" \", text.lower())\n",
    "\n",
    "# Tokenize it\n",
    "words = text.split()\n",
    "print(words)"
   ]
  },
  {
   "cell_type": "code",
   "execution_count": 22,
   "metadata": {},
   "outputs": [
    {
     "name": "stdout",
     "output_type": "stream",
     "text": [
      "['first', 'time', 'see', 'second', 'renaissance', 'may', 'look', 'boring', 'look', 'least', 'twice', 'definitely', 'watch', 'part', '2', 'change', 'view', 'matrix', 'human', 'people', 'ones', 'started', 'war', 'ai', 'bad', 'thing']\n"
     ]
    }
   ],
   "source": [
    "# Remove stop words\n",
    "words = [w for w in words if w not in stopwords.words(\"english\")]\n",
    "print(words)"
   ]
  },
  {
   "cell_type": "markdown",
   "metadata": {},
   "source": [
    "### Sentence Parsing\n",
    "- part-of-sentence (POS) tagging provides meaning by assigning noun, verb, adj, etc. to words in a sentence\n",
    "- nltk allows POS tagging via built-in or custom definitions as seen below\n",
    "- note that the parser returns two possible meanings to the sentence, I shot an elephant in my pajamas, to mean the shooter was wearing pajamas and also the elephant was in your pajamas."
   ]
  },
  {
   "cell_type": "code",
   "execution_count": 23,
   "metadata": {},
   "outputs": [
    {
     "name": "stdout",
     "output_type": "stream",
     "text": [
      "(S\n",
      "  (NP I)\n",
      "  (VP\n",
      "    (VP (V shot) (NP (Det an) (N elephant)))\n",
      "    (PP (P in) (NP (Det my) (N pajamas)))))\n",
      "(S\n",
      "  (NP I)\n",
      "  (VP\n",
      "    (V shot)\n",
      "    (NP (Det an) (N elephant) (PP (P in) (NP (Det my) (N pajamas))))))\n"
     ]
    }
   ],
   "source": [
    "import nltk\n",
    "\n",
    "# Define a custom grammar\n",
    "my_grammar = nltk.CFG.fromstring(\"\"\"\n",
    "S -> NP VP\n",
    "PP -> P NP\n",
    "NP -> Det N | Det N PP | 'I'\n",
    "VP -> V NP | VP PP\n",
    "Det -> 'an' | 'my'\n",
    "N -> 'elephant' | 'pajamas'\n",
    "V -> 'shot'\n",
    "P -> 'in'\n",
    "\"\"\")\n",
    "parser = nltk.ChartParser(my_grammar)\n",
    "\n",
    "# Parse a sentence\n",
    "sentence = word_tokenize(\"I shot an elephant in my pajamas\")\n",
    "for tree in parser.parse(sentence):\n",
    "    print(tree)"
   ]
  },
  {
   "cell_type": "code",
   "execution_count": 24,
   "metadata": {},
   "outputs": [],
   "source": [
    "#import matplotlib.pyplot as plt\n",
    "#%matplotlib inline\n",
    "\n",
    "# Visualize parse trees\n",
    "for tree in parser.parse(sentence):\n",
    "    tree.draw()"
   ]
  },
  {
   "cell_type": "markdown",
   "metadata": {},
   "source": [
    "## Stemming & Lemmatization\n",
    "\n",
    "### Stemming\n",
    "- process of reducing a word to its stem or root form (branches, branching, branched --> branch)\n",
    "- reduces complexity but maintains meaning of words\n",
    "- rules-based approach to search & replacing/removing word endings (-ed, -ing, -ly, etc.)\n",
    "- nltk contains several stemmers but we primarily use PorterStemmer\n",
    "- the final stem may not be a meaningful word (cchange/changing --> chang)"
   ]
  },
  {
   "cell_type": "code",
   "execution_count": 25,
   "metadata": {},
   "outputs": [
    {
     "name": "stdout",
     "output_type": "stream",
     "text": [
      "['first', 'time', 'see', 'second', 'renaiss', 'may', 'look', 'bore', 'look', 'least', 'twice', 'definit', 'watch', 'part', '2', 'chang', 'view', 'matrix', 'human', 'peopl', 'one', 'start', 'war', 'ai', 'bad', 'thing']\n"
     ]
    }
   ],
   "source": [
    "from nltk.stem.porter import PorterStemmer\n",
    "\n",
    "# Reduce words to their stems\n",
    "stemmed = [PorterStemmer().stem(w) for w in words]\n",
    "print(stemmed)"
   ]
  },
  {
   "cell_type": "markdown",
   "metadata": {},
   "source": [
    "### Lemmatization\n",
    "- same purpose as stemming but uses a dictionary to search and replace words\n",
    "- allows for non-trivial replacements unrelaetd to suffix, e.g., is/was/were --> be\n",
    "- nltk WordNetLemmatizer is one example but as shown below it defaults to processing nouns only (part-of-speech; PoS)\n",
    "-- adjust function call to handle other PoS such as verbs\n",
    "- note that the final reduced word is a meaningful word\n",
    "- is more memory-intensive as compared to stemming owing to need for dictionary\n",
    "- it is quite common to perform both lemmatization & stemming, with lemmatization first followed by stemming "
   ]
  },
  {
   "cell_type": "code",
   "execution_count": 26,
   "metadata": {},
   "outputs": [
    {
     "name": "stdout",
     "output_type": "stream",
     "text": [
      "['first', 'time', 'see', 'second', 'renaissance', 'may', 'look', 'boring', 'look', 'least', 'twice', 'definitely', 'watch', 'part', '2', 'change', 'view', 'matrix', 'human', 'people', 'one', 'started', 'war', 'ai', 'bad', 'thing']\n"
     ]
    }
   ],
   "source": [
    "from nltk.stem.wordnet import WordNetLemmatizer\n",
    "\n",
    "# Reduce words to their root form\n",
    "lemmed = [WordNetLemmatizer().lemmatize(w) for w in words]\n",
    "print(lemmed)"
   ]
  },
  {
   "cell_type": "code",
   "execution_count": 27,
   "metadata": {},
   "outputs": [
    {
     "name": "stdout",
     "output_type": "stream",
     "text": [
      "['first', 'time', 'see', 'second', 'renaissance', 'may', 'look', 'bore', 'look', 'least', 'twice', 'definitely', 'watch', 'part', '2', 'change', 'view', 'matrix', 'human', 'people', 'one', 'start', 'war', 'ai', 'bad', 'thing']\n"
     ]
    }
   ],
   "source": [
    "# Lemmatize verbs by specifying pos\n",
    "lemmed = [WordNetLemmatizer().lemmatize(w, pos='v') for w in lemmed]\n",
    "print(lemmed)"
   ]
  },
  {
   "cell_type": "code",
   "execution_count": 28,
   "metadata": {},
   "outputs": [
    {
     "name": "stdout",
     "output_type": "stream",
     "text": [
      "0.7692307692307692\n",
      "0.23076923076923075\n"
     ]
    }
   ],
   "source": [
    "import numpy as np\n",
    "fact=np.sum(1/(1/12 + 1/40))\n",
    "print(1/12 * fact)\n",
    "print(1/40* fact)"
   ]
  },
  {
   "cell_type": "code",
   "execution_count": null,
   "metadata": {},
   "outputs": [],
   "source": []
  }
 ],
 "metadata": {
  "kernelspec": {
   "display_name": "Python [conda env:root] *",
   "language": "python",
   "name": "conda-root-py"
  },
  "language_info": {
   "codemirror_mode": {
    "name": "ipython",
    "version": 3
   },
   "file_extension": ".py",
   "mimetype": "text/x-python",
   "name": "python",
   "nbconvert_exporter": "python",
   "pygments_lexer": "ipython3",
   "version": "3.7.6"
  }
 },
 "nbformat": 4,
 "nbformat_minor": 2
}
